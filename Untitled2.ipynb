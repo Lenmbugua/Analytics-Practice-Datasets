{
 "cells": [
  {
   "cell_type": "code",
   "execution_count": 1,
   "id": "5353bbf0-035b-45c2-a09d-4262e3e6f79a",
   "metadata": {},
   "outputs": [],
   "source": [
    "#Variables in python\n"
   ]
  },
  {
   "cell_type": "code",
   "execution_count": 2,
   "id": "80842ef3-43d5-4a44-8440-5ca5283604d8",
   "metadata": {},
   "outputs": [
    {
     "name": "stdout",
     "output_type": "stream",
     "text": [
      "22\n"
     ]
    }
   ],
   "source": [
    "x = 22\n",
    "print(x)"
   ]
  },
  {
   "cell_type": "code",
   "execution_count": 3,
   "id": "1d836881-4a66-49e1-b81c-0aa47f39cecf",
   "metadata": {},
   "outputs": [
    {
     "data": {
      "text/plain": [
       "int"
      ]
     },
     "execution_count": 3,
     "metadata": {},
     "output_type": "execute_result"
    }
   ],
   "source": [
    "type(x)\n"
   ]
  },
  {
   "cell_type": "code",
   "execution_count": 4,
   "id": "ca79d571-9cff-41f0-bf35-c9b71e0add0e",
   "metadata": {},
   "outputs": [
    {
     "name": "stdout",
     "output_type": "stream",
     "text": [
      "Mint chocolate chip\n"
     ]
    }
   ],
   "source": [
    "y = 'Mint chocolate chip'\n",
    "print(y)"
   ]
  },
  {
   "cell_type": "code",
   "execution_count": 6,
   "id": "cf71bafe-fb5d-42f9-9c73-e3072f87ab63",
   "metadata": {},
   "outputs": [
    {
     "data": {
      "text/plain": [
       "str"
      ]
     },
     "execution_count": 6,
     "metadata": {},
     "output_type": "execute_result"
    }
   ],
   "source": [
    "type(y)\n"
   ]
  },
  {
   "cell_type": "code",
   "execution_count": 9,
   "id": "4b9c7808-2b48-4299-b3b3-c35d0fe715d4",
   "metadata": {},
   "outputs": [
    {
     "name": "stdout",
     "output_type": "stream",
     "text": [
      "Chocolate\n",
      "Vanilla\n",
      "Rocky Road\n"
     ]
    }
   ],
   "source": [
    "x,y,z = 'Chocolate', 'Vanilla', 'Rocky Road'\n",
    "print(x)\n",
    "print(y)\n",
    "print(z)"
   ]
  },
  {
   "cell_type": "code",
   "execution_count": 10,
   "id": "dc3fff32-7f7d-446f-829f-13ac69a7ee08",
   "metadata": {},
   "outputs": [
    {
     "name": "stdout",
     "output_type": "stream",
     "text": [
      "chocolate\n",
      "Vanilla\n",
      "Blueberry\n"
     ]
    }
   ],
   "source": [
    "#LISTS IN VARIABLES\n",
    "ice_cream = ['chocolate', 'Vanilla', 'Blueberry']\n",
    "x,y,z = ice_cream\n",
    "print(x)\n",
    "print(y)\n",
    "print(z)\n"
   ]
  },
  {
   "cell_type": "code",
   "execution_count": null,
   "id": "3f376981-4547-475b-a5f1-d333661fc50a",
   "metadata": {},
   "outputs": [],
   "source": [
    "#Camel Case\n",
    "testVariableCase = 'Vanilla Swirl'"
   ]
  },
  {
   "cell_type": "code",
   "execution_count": null,
   "id": "f1b1866d-d097-4a54-97e9-1128df484dbe",
   "metadata": {},
   "outputs": [],
   "source": [
    "#Pascal Case\n",
    "TestVariableCase = 'Vanilla Swirl'"
   ]
  },
  {
   "cell_type": "code",
   "execution_count": null,
   "id": "8748d162-0488-4736-83ed-ff462bdc7a4f",
   "metadata": {},
   "outputs": [],
   "source": [
    "# Snake Case\n",
    "test_variable_case = 'Vanilla Swirl'"
   ]
  },
  {
   "cell_type": "code",
   "execution_count": 12,
   "id": "a9bed62c-45fb-4b0e-b24e-96a125554144",
   "metadata": {},
   "outputs": [
    {
     "name": "stdout",
     "output_type": "stream",
     "text": [
      "Ice Cream is my favourite.\n"
     ]
    }
   ],
   "source": [
    "x = 'Ice Cream is my favourite' + '.'\n",
    "print(x)"
   ]
  },
  {
   "cell_type": "code",
   "execution_count": 13,
   "id": "08dcd518-6019-4cbe-a162-8258538f970f",
   "metadata": {},
   "outputs": [
    {
     "name": "stdout",
     "output_type": "stream",
     "text": [
      "Ice Cream is my favourite\n"
     ]
    }
   ],
   "source": [
    "x = 'Ice Cream'\n",
    "y = ' is'\n",
    "z = ' my favourite'\n",
    "print(x+y+z)\n"
   ]
  },
  {
   "cell_type": "code",
   "execution_count": null,
   "id": "f1f61b18-485d-4867-bab4-76731231d319",
   "metadata": {},
   "outputs": [],
   "source": [
    "# Data Types"
   ]
  },
  {
   "cell_type": "code",
   "execution_count": 14,
   "id": "07738b0c-a488-4833-92fa-d6596d371558",
   "metadata": {},
   "outputs": [
    {
     "data": {
      "text/plain": [
       "int"
      ]
     },
     "execution_count": 14,
     "metadata": {},
     "output_type": "execute_result"
    }
   ],
   "source": [
    "type(-12 + 100)"
   ]
  },
  {
   "cell_type": "code",
   "execution_count": 15,
   "id": "6dd05574-aaad-4a8d-b71e-24aeab096013",
   "metadata": {},
   "outputs": [
    {
     "data": {
      "text/plain": [
       "float"
      ]
     },
     "execution_count": 15,
     "metadata": {},
     "output_type": "execute_result"
    }
   ],
   "source": [
    "type(-12 + 12.5)"
   ]
  },
  {
   "cell_type": "code",
   "execution_count": 16,
   "id": "9fd38e62-4e2b-44de-8990-fb5796a3860c",
   "metadata": {},
   "outputs": [
    {
     "data": {
      "text/plain": [
       "complex"
      ]
     },
     "execution_count": 16,
     "metadata": {},
     "output_type": "execute_result"
    }
   ],
   "source": [
    "type(-12 + 3j)"
   ]
  },
  {
   "cell_type": "code",
   "execution_count": 19,
   "id": "44b84a2b-f876-403b-9d24-ccd2bf79faa4",
   "metadata": {},
   "outputs": [
    {
     "data": {
      "text/plain": [
       "bool"
      ]
     },
     "execution_count": 19,
     "metadata": {},
     "output_type": "execute_result"
    }
   ],
   "source": [
    "#Boolean\n",
    "\n",
    "type(True)"
   ]
  },
  {
   "cell_type": "code",
   "execution_count": 20,
   "id": "ef27e115-e26e-4308-ac5f-94467ac0d469",
   "metadata": {},
   "outputs": [
    {
     "data": {
      "text/plain": [
       "bool"
      ]
     },
     "execution_count": 20,
     "metadata": {},
     "output_type": "execute_result"
    }
   ],
   "source": [
    "type(False)"
   ]
  },
  {
   "cell_type": "code",
   "execution_count": 21,
   "id": "272f9bb6-ecfd-4c71-bc96-60b9799d4e85",
   "metadata": {},
   "outputs": [
    {
     "data": {
      "text/plain": [
       "'single quote'"
      ]
     },
     "execution_count": 21,
     "metadata": {},
     "output_type": "execute_result"
    }
   ],
   "source": [
    "# strings\n",
    "'single quote'"
   ]
  },
  {
   "cell_type": "code",
   "execution_count": 22,
   "id": "ee8c113e-faed-413a-a22c-5b5b805644d6",
   "metadata": {},
   "outputs": [
    {
     "data": {
      "text/plain": [
       "'Double Quote'"
      ]
     },
     "execution_count": 22,
     "metadata": {},
     "output_type": "execute_result"
    }
   ],
   "source": [
    "'Double Quote'"
   ]
  },
  {
   "cell_type": "code",
   "execution_count": 25,
   "id": "e4aba8bd-0741-4ea6-b727-1186f6273f6c",
   "metadata": {},
   "outputs": [
    {
     "name": "stdout",
     "output_type": "stream",
     "text": [
      "\n",
      "The ice cream vanquieshed\n",
      "my longing for sweets,\n",
      "upon this diet i look away,\n",
      "it no longer exists on this day.\n",
      "\n",
      "\n"
     ]
    }
   ],
   "source": [
    "multiline = \"\"\"\n",
    "The ice cream vanquieshed\n",
    "my longing for sweets,\n",
    "upon this diet i look away,\n",
    "it no longer exists on this day.\n",
    "\n",
    "\"\"\"\n",
    "print(multiline)"
   ]
  },
  {
   "cell_type": "code",
   "execution_count": 26,
   "id": "7c4d0ee1-b0a3-422f-afcc-b77d4b0803f9",
   "metadata": {},
   "outputs": [
    {
     "data": {
      "text/plain": [
       "[1, 2, 3]"
      ]
     },
     "execution_count": 26,
     "metadata": {},
     "output_type": "execute_result"
    }
   ],
   "source": [
    "#list\n",
    "[1,2,3]"
   ]
  },
  {
   "cell_type": "code",
   "execution_count": 27,
   "id": "b77b6591-0a45-4f07-97f4-2f5dc3b55818",
   "metadata": {},
   "outputs": [
    {
     "data": {
      "text/plain": [
       "['cookie Dough', 'strawberry', 'chocolate']"
      ]
     },
     "execution_count": 27,
     "metadata": {},
     "output_type": "execute_result"
    }
   ],
   "source": [
    "['cookie Dough', 'strawberry', 'chocolate']\n"
   ]
  },
  {
   "cell_type": "code",
   "execution_count": 29,
   "id": "f5be95da-4522-4e9d-b563-6759b9880899",
   "metadata": {},
   "outputs": [
    {
     "data": {
      "text/plain": [
       "['Vanilla', 3, ['Scoops', 'Spoon'], True]"
      ]
     },
     "execution_count": 29,
     "metadata": {},
     "output_type": "execute_result"
    }
   ],
   "source": [
    "['Vanilla', 3, ['Scoops', 'Spoon'],True]"
   ]
  },
  {
   "cell_type": "code",
   "execution_count": 31,
   "id": "3f940236-cacf-489f-b45c-4b884e26ed2c",
   "metadata": {},
   "outputs": [
    {
     "data": {
      "text/plain": [
       "['Cookie Dough', 'Strawberry', 'Chocolate', 'Salted Caramel']"
      ]
     },
     "execution_count": 31,
     "metadata": {},
     "output_type": "execute_result"
    }
   ],
   "source": [
    "ice_cream  = ['Cookie Dough', 'Strawberry','Chocolate']\n",
    "ice_cream.append('Salted Caramel')\n",
    "ice_cream"
   ]
  },
  {
   "cell_type": "code",
   "execution_count": 32,
   "id": "1a1ea88d-571c-455e-88c4-360d15d35447",
   "metadata": {},
   "outputs": [
    {
     "data": {
      "text/plain": [
       "['Butter Pecan', 'Strawberry', 'Chocolate', 'Salted Caramel']"
      ]
     },
     "execution_count": 32,
     "metadata": {},
     "output_type": "execute_result"
    }
   ],
   "source": [
    "ice_cream[0] = 'Butter Pecan'\n",
    "ice_cream"
   ]
  },
  {
   "cell_type": "code",
   "execution_count": 34,
   "id": "cbede9aa-1794-4111-a8c3-813d40954a56",
   "metadata": {},
   "outputs": [
    {
     "data": {
      "text/plain": [
       "'Spoon'"
      ]
     },
     "execution_count": 34,
     "metadata": {},
     "output_type": "execute_result"
    }
   ],
   "source": [
    "nest_list = ['Vanilla', 3, ['Scoops','Spoon'],True]\n",
    "nest_list[2][1]"
   ]
  },
  {
   "cell_type": "code",
   "execution_count": 1,
   "id": "c2395377-4a9c-4963-ab81-dbafb31d0371",
   "metadata": {},
   "outputs": [
    {
     "data": {
      "text/plain": [
       "(1, 2, 3, 2, 1)"
      ]
     },
     "execution_count": 1,
     "metadata": {},
     "output_type": "execute_result"
    }
   ],
   "source": [
    "#tuple\n",
    "tuple_scoops = (1,2,3,2,1)\n",
    "tuple_scoops"
   ]
  },
  {
   "cell_type": "code",
   "execution_count": 2,
   "id": "7445a5ea-cf68-4ce4-b64a-80a341313dcf",
   "metadata": {},
   "outputs": [
    {
     "data": {
      "text/plain": [
       "tuple"
      ]
     },
     "execution_count": 2,
     "metadata": {},
     "output_type": "execute_result"
    }
   ],
   "source": [
    "type(tuple_scoops)"
   ]
  },
  {
   "cell_type": "code",
   "execution_count": 3,
   "id": "89a7133e-0ac0-4f61-879c-77c31bb4a2f0",
   "metadata": {},
   "outputs": [
    {
     "data": {
      "text/plain": [
       "2"
      ]
     },
     "execution_count": 3,
     "metadata": {},
     "output_type": "execute_result"
    }
   ],
   "source": [
    "tuple_scoops[1]"
   ]
  },
  {
   "cell_type": "code",
   "execution_count": 4,
   "id": "73cc8fcd-7600-4fa8-ab23-015f3de64817",
   "metadata": {},
   "outputs": [
    {
     "data": {
      "text/plain": [
       "{1, 2, 3}"
      ]
     },
     "execution_count": 4,
     "metadata": {},
     "output_type": "execute_result"
    }
   ],
   "source": [
    "# sets\n",
    "\n",
    "daily_pints = {1,2,3}\n",
    "daily_pints"
   ]
  },
  {
   "cell_type": "code",
   "execution_count": 5,
   "id": "0e2d2c79-840d-481c-b528-3d796ecc7d35",
   "metadata": {},
   "outputs": [
    {
     "data": {
      "text/plain": [
       "set"
      ]
     },
     "execution_count": 5,
     "metadata": {},
     "output_type": "execute_result"
    }
   ],
   "source": [
    "type(daily_pints)"
   ]
  },
  {
   "cell_type": "code",
   "execution_count": 6,
   "id": "aaccebd8-3bdd-4f57-a78b-b79f1e87f413",
   "metadata": {},
   "outputs": [
    {
     "data": {
      "text/plain": [
       "{1, 2, 3, 4, 5, 7, 8, 9, 34}"
      ]
     },
     "execution_count": 6,
     "metadata": {},
     "output_type": "execute_result"
    }
   ],
   "source": [
    "daily_pints_log = {1,2,3,2,1,4,5,34,2,7,9,8,2,1,3}\n",
    "daily_pints_log"
   ]
  },
  {
   "cell_type": "code",
   "execution_count": 7,
   "id": "d639b78b-8d07-45d5-b6c9-1757b1a13335",
   "metadata": {},
   "outputs": [
    {
     "data": {
      "text/plain": [
       "{0, 1, 2, 3, 5, 7, 24}"
      ]
     },
     "execution_count": 7,
     "metadata": {},
     "output_type": "execute_result"
    }
   ],
   "source": [
    "wifes_daily_pints_log = {1,3,5,7,3,24,5,7,3,2,0}\n",
    "wifes_daily_pints_log"
   ]
  },
  {
   "cell_type": "code",
   "execution_count": 11,
   "id": "917c011e-2e1a-41f7-af88-599735a6a450",
   "metadata": {},
   "outputs": [
    {
     "name": "stdout",
     "output_type": "stream",
     "text": [
      "{0, 1, 2, 3, 4, 5, 7, 8, 9, 24, 34}\n"
     ]
    }
   ],
   "source": [
    "print (wifes_daily_pints_log | daily_pints_log)  "
   ]
  },
  {
   "cell_type": "code",
   "execution_count": 12,
   "id": "928fd19f-3879-4a38-8068-0b9735a5a788",
   "metadata": {},
   "outputs": [
    {
     "name": "stdout",
     "output_type": "stream",
     "text": [
      "{1, 2, 3, 5, 7}\n"
     ]
    }
   ],
   "source": [
    "print (wifes_daily_pints_log & daily_pints_log)"
   ]
  },
  {
   "cell_type": "code",
   "execution_count": 13,
   "id": "ad679dd0-6125-4216-b6aa-bd8f6deea36f",
   "metadata": {},
   "outputs": [
    {
     "name": "stdout",
     "output_type": "stream",
     "text": [
      "{0, 24}\n"
     ]
    }
   ],
   "source": [
    "print (wifes_daily_pints_log - daily_pints_log)"
   ]
  },
  {
   "cell_type": "code",
   "execution_count": 14,
   "id": "85379f82-f362-4c3a-877a-a6f0a8df59c3",
   "metadata": {},
   "outputs": [
    {
     "name": "stdout",
     "output_type": "stream",
     "text": [
      "{8, 9, 34, 4}\n"
     ]
    }
   ],
   "source": [
    "print (daily_pints_log - wifes_daily_pints_log)"
   ]
  },
  {
   "cell_type": "code",
   "execution_count": 15,
   "id": "6320cf1a-9f52-42d0-a7e2-61d3db9c0940",
   "metadata": {},
   "outputs": [
    {
     "name": "stdout",
     "output_type": "stream",
     "text": [
      "{0, 34, 4, 8, 9, 24}\n"
     ]
    }
   ],
   "source": [
    "print (daily_pints_log ^ wifes_daily_pints_log)"
   ]
  },
  {
   "cell_type": "code",
   "execution_count": 17,
   "id": "9b580d42-032b-4f96-96d0-b2f314a44b76",
   "metadata": {},
   "outputs": [
    {
     "name": "stdout",
     "output_type": "stream",
     "text": [
      "{'name': 'Alex Freberg', 'age': 39, 'Favourite ice creams': ['mcc', 'Chocolate']}\n"
     ]
    }
   ],
   "source": [
    "# Dictinionaries\n",
    "# key/value pair\n",
    "\n",
    "dict_cream = {'name': 'Alex Freberg', 'age':39, 'Favourite ice creams':['mcc','Chocolate']}\n",
    "print(dict_cream)\n",
    " "
   ]
  },
  {
   "cell_type": "code",
   "execution_count": 18,
   "id": "85fc4fdb-d689-4cf5-89c4-3ffe3506313b",
   "metadata": {},
   "outputs": [
    {
     "data": {
      "text/plain": [
       "dict"
      ]
     },
     "execution_count": 18,
     "metadata": {},
     "output_type": "execute_result"
    }
   ],
   "source": [
    "type(dict_cream)"
   ]
  },
  {
   "cell_type": "code",
   "execution_count": 19,
   "id": "a79aa6df-b2e4-4b17-8b9d-cbe1374a139d",
   "metadata": {},
   "outputs": [
    {
     "data": {
      "text/plain": [
       "dict_values(['Alex Freberg', 39, ['mcc', 'Chocolate']])"
      ]
     },
     "execution_count": 19,
     "metadata": {},
     "output_type": "execute_result"
    }
   ],
   "source": [
    "dict_cream.values()"
   ]
  },
  {
   "cell_type": "code",
   "execution_count": 20,
   "id": "0876a334-1a07-488a-9374-39b025aa3836",
   "metadata": {},
   "outputs": [
    {
     "data": {
      "text/plain": [
       "dict_keys(['name', 'age', 'Favourite ice creams'])"
      ]
     },
     "execution_count": 20,
     "metadata": {},
     "output_type": "execute_result"
    }
   ],
   "source": [
    "dict_cream.keys()"
   ]
  },
  {
   "cell_type": "code",
   "execution_count": 21,
   "id": "a85d57f9-f354-4315-a837-0405e8314e43",
   "metadata": {},
   "outputs": [
    {
     "data": {
      "text/plain": [
       "dict_items([('name', 'Alex Freberg'), ('age', 39), ('Favourite ice creams', ['mcc', 'Chocolate'])])"
      ]
     },
     "execution_count": 21,
     "metadata": {},
     "output_type": "execute_result"
    }
   ],
   "source": [
    "dict_cream.items()"
   ]
  },
  {
   "cell_type": "code",
   "execution_count": 22,
   "id": "8045f569-3f5d-4513-b57d-3eb9147f74cf",
   "metadata": {},
   "outputs": [
    {
     "data": {
      "text/plain": [
       "'Alex Freberg'"
      ]
     },
     "execution_count": 22,
     "metadata": {},
     "output_type": "execute_result"
    }
   ],
   "source": [
    "dict_cream['name']\n"
   ]
  },
  {
   "cell_type": "code",
   "execution_count": 23,
   "id": "516adb33-b167-4c92-a629-f36ac1590205",
   "metadata": {},
   "outputs": [
    {
     "name": "stdout",
     "output_type": "stream",
     "text": [
      "{'name': 'Hellen Mbugua', 'age': 39, 'Favourite ice creams': ['mcc', 'Chocolate']}\n"
     ]
    }
   ],
   "source": [
    "dict_cream['name'] = 'Hellen Mbugua'\n",
    "print (dict_cream)"
   ]
  },
  {
   "cell_type": "code",
   "execution_count": 26,
   "id": "f40e5698-d79d-443b-bd81-40fbfed5e8e4",
   "metadata": {},
   "outputs": [
    {
     "name": "stdout",
     "output_type": "stream",
     "text": [
      "{'name': 'Hellen Mbugua', 'age': 39, 'Favourite ice creams': ['mcc', 'Chocolate'], 'weight': ['mcc', '300']}\n"
     ]
    }
   ],
   "source": [
    "dict_cream.update({'name': 'Hellen Mbugua', 'age': 39, 'weight': ['mcc', '300']})\n",
    "print(dict_cream)"
   ]
  },
  {
   "cell_type": "code",
   "execution_count": 27,
   "id": "06a359cf-8d98-4962-ba26-5464077ae2c0",
   "metadata": {},
   "outputs": [
    {
     "name": "stdout",
     "output_type": "stream",
     "text": [
      "{'name': 'Hellen Mbugua', 'age': 39, 'Favourite ice creams': ['mcc', 'Chocolate']}\n"
     ]
    }
   ],
   "source": [
    "del dict_cream['weight']\n",
    "print(dict_cream)"
   ]
  },
  {
   "cell_type": "code",
   "execution_count": 28,
   "id": "9c8f33a2-4d13-4d46-9e6e-5fee1b3bc8d3",
   "metadata": {},
   "outputs": [
    {
     "data": {
      "text/plain": [
       "True"
      ]
     },
     "execution_count": 28,
     "metadata": {},
     "output_type": "execute_result"
    }
   ],
   "source": [
    "#logical operators\n",
    "(70 > 50) and (50 > 10)"
   ]
  },
  {
   "cell_type": "code",
   "execution_count": 29,
   "id": "f8a71083-56d9-4265-9eb7-aba15be3744b",
   "metadata": {},
   "outputs": [
    {
     "data": {
      "text/plain": [
       "True"
      ]
     },
     "execution_count": 29,
     "metadata": {},
     "output_type": "execute_result"
    }
   ],
   "source": [
    "(10 > 50) or (50 > 10)"
   ]
  },
  {
   "cell_type": "code",
   "execution_count": 30,
   "id": "4d7c998d-8e5c-43fd-a191-fbd0adec14a1",
   "metadata": {},
   "outputs": [
    {
     "data": {
      "text/plain": [
       "True"
      ]
     },
     "execution_count": 30,
     "metadata": {},
     "output_type": "execute_result"
    }
   ],
   "source": [
    "('Vanilla' > 'Chocolate') and (50 > 10)"
   ]
  },
  {
   "cell_type": "code",
   "execution_count": 31,
   "id": "37b2aa16-6d3e-4826-9780-0243f04c9f76",
   "metadata": {},
   "outputs": [
    {
     "data": {
      "text/plain": [
       "False"
      ]
     },
     "execution_count": 31,
     "metadata": {},
     "output_type": "execute_result"
    }
   ],
   "source": [
    "not(50 > 10)"
   ]
  },
  {
   "cell_type": "code",
   "execution_count": 32,
   "id": "67940e20-83bc-4c22-a555-9d1a65c5961b",
   "metadata": {},
   "outputs": [
    {
     "data": {
      "text/plain": [
       "True"
      ]
     },
     "execution_count": 32,
     "metadata": {},
     "output_type": "execute_result"
    }
   ],
   "source": [
    "ice_cream = 'i love  chocolate ice cream'\n",
    "'love' in 'i love chocolate ice cream'"
   ]
  },
  {
   "cell_type": "code",
   "execution_count": 33,
   "id": "e22172c0-2c1c-47a4-9b67-5962b4685fe2",
   "metadata": {},
   "outputs": [
    {
     "data": {
      "text/plain": [
       "True"
      ]
     },
     "execution_count": 33,
     "metadata": {},
     "output_type": "execute_result"
    }
   ],
   "source": [
    "scoops = [1,2,3,4,5]\n",
    "8 not in scoops"
   ]
  },
  {
   "cell_type": "code",
   "execution_count": 7,
   "id": "4ed2593d-b49e-454a-b2e1-7e1196311518",
   "metadata": {},
   "outputs": [
    {
     "name": "stdout",
     "output_type": "stream",
     "text": [
      "it worked!\n"
     ]
    }
   ],
   "source": [
    "#IF ELIF ELSE STATEMENTS\n",
    "\n",
    "if 25 > 10:\n",
    "    print('it worked!')\n",
    "else:\n",
    "    print('it ddnt work... ')"
   ]
  },
  {
   "cell_type": "code",
   "execution_count": 9,
   "id": "9c141299-d5f8-48dd-898b-ffd626403871",
   "metadata": {},
   "outputs": [
    {
     "name": "stdout",
     "output_type": "stream",
     "text": [
      "elif worked\n"
     ]
    }
   ],
   "source": [
    "if 25 < 10:\n",
    "    print('it worked!')\n",
    "elif 25 < 30:\n",
    "    print('elif worked!')\n",
    "else:\n",
    "    print('it ddnt work...')\n",
    "    "
   ]
  },
  {
   "cell_type": "code",
   "execution_count": 11,
   "id": "641ab8bb-2b92-4f0f-8adb-23dc1322bb58",
   "metadata": {},
   "outputs": [
    {
     "name": "stdout",
     "output_type": "stream",
     "text": [
      "elif 3 worked!\n"
     ]
    }
   ],
   "source": [
    "if 25 < 10:\n",
    "    print('it worked!')\n",
    "elif 25 < 20:\n",
    "    print('elif worked!')\n",
    "elif 25 < 21:\n",
    "    print('elif 2 worked!')\n",
    "elif 25 < 40:\n",
    "    print('elif 3 worked!')\n",
    "elif 25 < 50:\n",
    "    print('elif 4 worked!')\n",
    "elif 25 < 60:\n",
    "    print('elif 5  worked!')\n",
    "else:\n",
    "    print('it ddnt work...')"
   ]
  },
  {
   "cell_type": "code",
   "execution_count": 13,
   "id": "cf827a24-5489-4257-af27-c92767fe3b5c",
   "metadata": {},
   "outputs": [
    {
     "name": "stdout",
     "output_type": "stream",
     "text": [
      "it worked!\n"
     ]
    }
   ],
   "source": [
    "#If statement in logical operators\n",
    "if (25 < 10) or (1 < 3) :\n",
    "    print('it worked!')"
   ]
  },
  {
   "cell_type": "code",
   "execution_count": 14,
   "id": "577dc6b8-dd50-4f75-8f23-0cb6e63d4b5f",
   "metadata": {},
   "outputs": [
    {
     "name": "stdout",
     "output_type": "stream",
     "text": [
      "it ddnt work...\n"
     ]
    }
   ],
   "source": [
    "# writing if statements in one line\n",
    "print('it worked!') if 10 > 30 else print ('it ddnt work...')"
   ]
  },
  {
   "cell_type": "code",
   "execution_count": 18,
   "id": "0433d89b-0ee2-4454-ad45-ab51ff38ccc3",
   "metadata": {},
   "outputs": [
    {
     "name": "stdout",
     "output_type": "stream",
     "text": [
      "it worked!\n",
      "This nested statement worked!\n"
     ]
    }
   ],
   "source": [
    "#nested if sttements\n",
    "if (25 < 10) or (1 < 3):\n",
    "    print('it worked!')\n",
    "if 10 > 5:\n",
    "    print('This nested statement worked!')"
   ]
  },
  {
   "cell_type": "code",
   "execution_count": 2,
   "id": "25bdbadf-d848-4bb4-8995-56edaa626737",
   "metadata": {},
   "outputs": [
    {
     "name": "stdout",
     "output_type": "stream",
     "text": [
      "1\n",
      "2\n",
      "3\n",
      "4\n",
      "5\n"
     ]
    }
   ],
   "source": [
    "#For Loops\n",
    "integers = [1,2,3,4,5]\n",
    "for number in integers:\n",
    "    print(number)"
   ]
  },
  {
   "cell_type": "code",
   "execution_count": 4,
   "id": "5976d626-80de-421c-9e1f-71325fb791ed",
   "metadata": {},
   "outputs": [
    {
     "name": "stdout",
     "output_type": "stream",
     "text": [
      "yep!\n",
      "yep!\n",
      "yep!\n",
      "yep!\n",
      "yep!\n"
     ]
    }
   ],
   "source": [
    "for number in integers:\n",
    "    print('yep!')"
   ]
  },
  {
   "cell_type": "code",
   "execution_count": 5,
   "id": "8325ff7f-b00a-4f54-96a5-48dd245c6c78",
   "metadata": {},
   "outputs": [
    {
     "name": "stdout",
     "output_type": "stream",
     "text": [
      "2\n",
      "4\n",
      "6\n",
      "8\n",
      "10\n"
     ]
    }
   ],
   "source": [
    "integers = [1,2,3,4,5]\n",
    "for jelly in integers:\n",
    "    print(jelly + jelly)"
   ]
  },
  {
   "cell_type": "code",
   "execution_count": 6,
   "id": "f3b1b08f-9d1c-4d18-9338-6f1fa83bf4b7",
   "metadata": {},
   "outputs": [
    {
     "name": "stdout",
     "output_type": "stream",
     "text": [
      "Hellen mbugua\n",
      "5\n",
      "['MCC', 'Chocolate']\n"
     ]
    }
   ],
   "source": [
    "ice_cream_dict= {'name': 'Hellen mbugua', 'Weekly intake': 5, 'Favourite ice creams':['MCC', 'Chocolate']}\n",
    "for cream in ice_cream_dict.values():\n",
    "    print(cream)"
   ]
  },
  {
   "cell_type": "code",
   "execution_count": 8,
   "id": "24a3dada-c1cd-446b-979f-a1dd5f8a2f02",
   "metadata": {},
   "outputs": [
    {
     "name": "stdout",
     "output_type": "stream",
     "text": [
      "name -> Hellen mbugua\n",
      "Weekly intake -> 5\n",
      "Favourite ice creams -> ['MCC', 'Chocolate']\n"
     ]
    }
   ],
   "source": [
    "ice_cream_dict= {'name': 'Hellen mbugua', 'Weekly intake': 5, 'Favourite ice creams':['MCC', 'Chocolate']}\n",
    "for key,value in ice_cream_dict.items():\n",
    "    print(key, '->',value)"
   ]
  },
  {
   "cell_type": "code",
   "execution_count": 9,
   "id": "95284386-5185-472e-9911-1e7e9b02ca0c",
   "metadata": {},
   "outputs": [
    {
     "name": "stdout",
     "output_type": "stream",
     "text": [
      "vanilla topped with Hot fudge\n",
      "vanilla topped with oreos\n",
      "vanilla topped with Marshmallows\n",
      "Chocolate topped with Hot fudge\n",
      "Chocolate topped with oreos\n",
      "Chocolate topped with Marshmallows\n",
      "Cookie Dough topped with Hot fudge\n",
      "Cookie Dough topped with oreos\n",
      "Cookie Dough topped with Marshmallows\n"
     ]
    }
   ],
   "source": [
    "#Nested for loops\n",
    "flavors = ['vanilla', 'Chocolate', 'Cookie Dough']\n",
    "toppings = ['Hot fudge', 'oreos', 'Marshmallows']\n",
    "\n",
    "for one in flavors:\n",
    "    for two in toppings:\n",
    "        print(one, 'topped with', two)"
   ]
  },
  {
   "cell_type": "code",
   "execution_count": 10,
   "id": "4212efa8-67db-44d6-81a8-8f9e1affc52e",
   "metadata": {},
   "outputs": [
    {
     "name": "stdout",
     "output_type": "stream",
     "text": [
      "0\n",
      "1\n",
      "2\n",
      "3\n",
      "4\n"
     ]
    }
   ],
   "source": [
    "# While loops\n",
    "number = 0\n",
    "while number < 5:\n",
    "    print(number)\n",
    "    number = number + 1"
   ]
  },
  {
   "cell_type": "code",
   "execution_count": 11,
   "id": "3fa0ec09-d583-4b8b-8f45-2f5e23b27e6e",
   "metadata": {},
   "outputs": [
    {
     "name": "stdout",
     "output_type": "stream",
     "text": [
      "0\n",
      "1\n",
      "2\n",
      "3\n"
     ]
    }
   ],
   "source": [
    "#Break statements\n",
    "number = 0\n",
    "while number < 5:\n",
    "    print(number)\n",
    "    if number == 3:\n",
    "        break\n",
    "    number = number + 1 "
   ]
  },
  {
   "cell_type": "code",
   "execution_count": 16,
   "id": "5e265d1a-f65d-402e-bea2-37551afccfc1",
   "metadata": {},
   "outputs": [
    {
     "name": "stdout",
     "output_type": "stream",
     "text": [
      "0\n",
      "1\n",
      "2\n",
      "3\n",
      "4\n",
      "No longer < 5\n"
     ]
    }
   ],
   "source": [
    "# Else statements in while loop\n",
    "number = 0\n",
    "while number < 5:\n",
    "    print(number)\n",
    "    if number == 6:\n",
    "        break\n",
    "    number = number + 1\n",
    "else:\n",
    "    print('No longer < 5')"
   ]
  },
  {
   "cell_type": "code",
   "execution_count": 25,
   "id": "e4987a3c-afeb-4c65-9f78-4189b12e5a6b",
   "metadata": {},
   "outputs": [
    {
     "name": "stdout",
     "output_type": "stream",
     "text": [
      "No longer < 5\n"
     ]
    }
   ],
   "source": [
    "# Continue statements in while loop\n",
    "number = 0\n",
    "\n",
    "while number < 5:\n",
    "    number = number + 1\n",
    "    if number == 3:\n",
    "        continue\n",
    "        print(number)\n",
    "else:\n",
    "    print('No longer < 5')"
   ]
  },
  {
   "cell_type": "code",
   "execution_count": 33,
   "id": "ea861911-b7b8-4545-a627-62c0a14590fb",
   "metadata": {},
   "outputs": [
    {
     "name": "stdout",
     "output_type": "stream",
     "text": [
      "We did it!\n"
     ]
    }
   ],
   "source": [
    "#Functions\n",
    "def first_func():\n",
    "    print('We did it!')\n",
    "first_func()"
   ]
  },
  {
   "cell_type": "code",
   "execution_count": 34,
   "id": "7a33334c-7c53-4c5c-b3bb-6caaac284932",
   "metadata": {},
   "outputs": [
    {
     "name": "stdout",
     "output_type": "stream",
     "text": [
      "25\n"
     ]
    }
   ],
   "source": [
    "#Arguments in functions\n",
    "def number_squared(number):\n",
    "    print(number**2)\n",
    "\n",
    "number_squared(5)"
   ]
  },
  {
   "cell_type": "code",
   "execution_count": 35,
   "id": "a4a1dccb-d121-49ec-a513-11a1f1a4a24e",
   "metadata": {},
   "outputs": [
    {
     "name": "stdout",
     "output_type": "stream",
     "text": [
      "125\n"
     ]
    }
   ],
   "source": [
    "#Multiple functions\n",
    "def number_squared_cust(number,power):\n",
    "    print(number**power)\n",
    "number_squared_cust(5,3)"
   ]
  },
  {
   "cell_type": "code",
   "execution_count": 36,
   "id": "5dc7abe2-86b1-435e-92fe-d3dd73e48d7d",
   "metadata": {},
   "outputs": [
    {
     "name": "stdout",
     "output_type": "stream",
     "text": [
      "30\n"
     ]
    }
   ],
   "source": [
    "#Arbirtrary arguments\n",
    "def number_args(*number):\n",
    "    print(number[0]*number[1])\n",
    "\n",
    "number_args(5,6,1,2,8)"
   ]
  },
  {
   "cell_type": "code",
   "execution_count": 37,
   "id": "e2a52d52-b91c-4684-975e-a73c575c8fff",
   "metadata": {},
   "outputs": [
    {
     "name": "stdout",
     "output_type": "stream",
     "text": [
      "30\n"
     ]
    }
   ],
   "source": [
    "args_tuple = (5,6,1,2,8)\n",
    "\n",
    "def number_args(*number):\n",
    "    print(number[0]*number[1])\n",
    "\n",
    "number_args(*args_tuple)"
   ]
  },
  {
   "cell_type": "code",
   "execution_count": 38,
   "id": "4d5d9d1a-32b2-47bd-99de-e0b456dd3abc",
   "metadata": {},
   "outputs": [
    {
     "name": "stdout",
     "output_type": "stream",
     "text": [
      "243\n"
     ]
    }
   ],
   "source": [
    "#Keyword Arguments\n",
    "def number_squared_cust(number,power):\n",
    "    print(number**power)\n",
    "number_squared_cust(power = 5,number = 3)"
   ]
  },
  {
   "cell_type": "code",
   "execution_count": 44,
   "id": "ee8e0ab6-86e4-4096-a1e8-c303d55e997d",
   "metadata": {},
   "outputs": [
    {
     "name": "stdout",
     "output_type": "stream",
     "text": [
      "my number is: 2309 My other number: 349\n"
     ]
    }
   ],
   "source": [
    "#Arbitrary keyword arguments\n",
    "def number_kwarg(**number):\n",
    "    print('my number is: ' + number['integer'] + ' My other number: ' + number['integer2'])\n",
    "\n",
    "number_kwarg(integer = '2309', integer2 = '349')"
   ]
  },
  {
   "cell_type": "code",
   "execution_count": 45,
   "id": "677d59ef-0755-4de6-9cd8-7dad620b178b",
   "metadata": {},
   "outputs": [
    {
     "data": {
      "text/plain": [
       "int"
      ]
     },
     "execution_count": 45,
     "metadata": {},
     "output_type": "execute_result"
    }
   ],
   "source": [
    "#Converting Data types\n",
    "num_int = 7\n",
    "type(num_int)"
   ]
  },
  {
   "cell_type": "code",
   "execution_count": 47,
   "id": "22a507d2-7dcd-4952-99f3-c7a42b01c73e",
   "metadata": {},
   "outputs": [
    {
     "data": {
      "text/plain": [
       "str"
      ]
     },
     "execution_count": 47,
     "metadata": {},
     "output_type": "execute_result"
    }
   ],
   "source": [
    "num_str = '7'\n",
    "type(num_str)"
   ]
  },
  {
   "cell_type": "code",
   "execution_count": 48,
   "id": "ad3bcb77-4745-4033-9f1b-abfb44b0aba2",
   "metadata": {},
   "outputs": [
    {
     "data": {
      "text/plain": [
       "int"
      ]
     },
     "execution_count": 48,
     "metadata": {},
     "output_type": "execute_result"
    }
   ],
   "source": [
    "#Converting string to integer\n",
    "num_str_conv = int(num_str)\n",
    "type(num_str_conv)"
   ]
  },
  {
   "cell_type": "code",
   "execution_count": 49,
   "id": "292dbcda-594d-448d-950d-e30da3b4d1fa",
   "metadata": {},
   "outputs": [
    {
     "name": "stdout",
     "output_type": "stream",
     "text": [
      "14\n"
     ]
    }
   ],
   "source": [
    "num_sum = num_int + num_str_conv\n",
    "print(num_sum)"
   ]
  },
  {
   "cell_type": "code",
   "execution_count": 50,
   "id": "0bc8fd26-0021-4d0b-93eb-434277906fcf",
   "metadata": {},
   "outputs": [
    {
     "data": {
      "text/plain": [
       "int"
      ]
     },
     "execution_count": 50,
     "metadata": {},
     "output_type": "execute_result"
    }
   ],
   "source": [
    "type(num_sum)"
   ]
  },
  {
   "cell_type": "code",
   "execution_count": 51,
   "id": "8d95f096-2aa4-424b-af45-557ea8faa569",
   "metadata": {},
   "outputs": [
    {
     "data": {
      "text/plain": [
       "list"
      ]
     },
     "execution_count": 51,
     "metadata": {},
     "output_type": "execute_result"
    }
   ],
   "source": [
    "#Converting list,sets and tuples\n",
    "list_type = [1,2,3]\n",
    "type(list_type)"
   ]
  },
  {
   "cell_type": "code",
   "execution_count": 52,
   "id": "3d92b968-d25c-4038-badf-1887651868e1",
   "metadata": {},
   "outputs": [
    {
     "data": {
      "text/plain": [
       "(1, 2, 3)"
      ]
     },
     "execution_count": 52,
     "metadata": {},
     "output_type": "execute_result"
    }
   ],
   "source": [
    "tuple(list_type)"
   ]
  },
  {
   "cell_type": "code",
   "execution_count": 54,
   "id": "1d50abbf-6d8e-43fa-963e-b51c009482e6",
   "metadata": {},
   "outputs": [
    {
     "data": {
      "text/plain": [
       "tuple"
      ]
     },
     "execution_count": 54,
     "metadata": {},
     "output_type": "execute_result"
    }
   ],
   "source": [
    "type(tuple(list_type))"
   ]
  },
  {
   "cell_type": "code",
   "execution_count": 57,
   "id": "d4eaf75c-abba-46e8-bb69-2a933ed3d768",
   "metadata": {},
   "outputs": [
    {
     "data": {
      "text/plain": [
       "{1, 2, 3}"
      ]
     },
     "execution_count": 57,
     "metadata": {},
     "output_type": "execute_result"
    }
   ],
   "source": [
    "# converting into a set\n",
    "list_type = [1,2,3,1,2,3,2,1,2,1]\n",
    "set(list_type)"
   ]
  },
  {
   "cell_type": "code",
   "execution_count": 56,
   "id": "f2ba8888-2f34-4f7b-a222-ebde4ee82a34",
   "metadata": {},
   "outputs": [
    {
     "data": {
      "text/plain": [
       "set"
      ]
     },
     "execution_count": 56,
     "metadata": {},
     "output_type": "execute_result"
    }
   ],
   "source": [
    "type(set(list_type))"
   ]
  },
  {
   "cell_type": "code",
   "execution_count": 58,
   "id": "1a9fb50c-e287-4ba7-add7-d64ecb9bb6f9",
   "metadata": {},
   "outputs": [
    {
     "data": {
      "text/plain": [
       "dict"
      ]
     },
     "execution_count": 58,
     "metadata": {},
     "output_type": "execute_result"
    }
   ],
   "source": [
    "dict_type = {'name': 'Hellen','Age':24, 'hair': 'N/A'}\n",
    "type(dict_type)"
   ]
  },
  {
   "cell_type": "code",
   "execution_count": 59,
   "id": "a62eca4e-d6f4-4d5a-ad74-617174b13e08",
   "metadata": {},
   "outputs": [
    {
     "data": {
      "text/plain": [
       "dict_items([('name', 'Hellen'), ('Age', 24), ('hair', 'N/A')])"
      ]
     },
     "execution_count": 59,
     "metadata": {},
     "output_type": "execute_result"
    }
   ],
   "source": [
    "dict_type.items()"
   ]
  },
  {
   "cell_type": "code",
   "execution_count": 60,
   "id": "a756f810-60d3-4c26-9eb4-7c1aa20788f8",
   "metadata": {},
   "outputs": [
    {
     "data": {
      "text/plain": [
       "dict_keys(['name', 'Age', 'hair'])"
      ]
     },
     "execution_count": 60,
     "metadata": {},
     "output_type": "execute_result"
    }
   ],
   "source": [
    "dict_type.keys()"
   ]
  },
  {
   "cell_type": "code",
   "execution_count": 61,
   "id": "56a0b8a6-128b-48b9-9068-309a002ce9cb",
   "metadata": {},
   "outputs": [
    {
     "data": {
      "text/plain": [
       "list"
      ]
     },
     "execution_count": 61,
     "metadata": {},
     "output_type": "execute_result"
    }
   ],
   "source": [
    "type(list(dict_type.keys()))"
   ]
  },
  {
   "cell_type": "code",
   "execution_count": 62,
   "id": "ed3163b7-9497-41a0-aadc-3917b80be0f8",
   "metadata": {},
   "outputs": [
    {
     "data": {
      "text/plain": [
       "list"
      ]
     },
     "execution_count": 62,
     "metadata": {},
     "output_type": "execute_result"
    }
   ],
   "source": [
    "type(list(dict_type.values()))"
   ]
  },
  {
   "cell_type": "code",
   "execution_count": 63,
   "id": "233bf1d1-bfcb-497b-96a6-e65d13fd3558",
   "metadata": {},
   "outputs": [
    {
     "data": {
      "text/plain": [
       "{' ', 'a', 'e', 'i', 'k', 'l', 'o', 'p', 'r', 't', 'y'}"
      ]
     },
     "execution_count": 63,
     "metadata": {},
     "output_type": "execute_result"
    }
   ],
   "source": [
    "long_str = \"i like to party\"\n",
    "set(long_str)"
   ]
  },
  {
   "cell_type": "code",
   "execution_count": 64,
   "id": "c236948a-abcc-46e8-a720-0a857a61aad1",
   "metadata": {},
   "outputs": [
    {
     "data": {
      "text/plain": [
       "['i', ' ', 'l', 'i', 'k', 'e', ' ', 't', 'o', ' ', 'p', 'a', 'r', 't', 'y']"
      ]
     },
     "execution_count": 64,
     "metadata": {},
     "output_type": "execute_result"
    }
   ],
   "source": [
    "long_str = \"i like to party\"\n",
    "list(long_str)"
   ]
  },
  {
   "cell_type": "code",
   "execution_count": null,
   "id": "00b9dc7f-cd4a-4b24-b256-84a06a377063",
   "metadata": {},
   "outputs": [],
   "source": []
  },
  {
   "cell_type": "code",
   "execution_count": null,
   "id": "7baf6ea6-38cd-4f44-a373-63a25ac0a95a",
   "metadata": {},
   "outputs": [],
   "source": []
  }
 ],
 "metadata": {
  "kernelspec": {
   "display_name": "Python 3 (ipykernel)",
   "language": "python",
   "name": "python3"
  },
  "language_info": {
   "codemirror_mode": {
    "name": "ipython",
    "version": 3
   },
   "file_extension": ".py",
   "mimetype": "text/x-python",
   "name": "python",
   "nbconvert_exporter": "python",
   "pygments_lexer": "ipython3",
   "version": "3.11.7"
  }
 },
 "nbformat": 4,
 "nbformat_minor": 5
}
