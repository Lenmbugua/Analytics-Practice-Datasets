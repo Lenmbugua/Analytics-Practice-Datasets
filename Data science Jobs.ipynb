{
 "cells": [
  {
   "cell_type": "code",
   "execution_count": 2,
   "id": "68d739f0-60d2-483b-a417-1fd71ad0f85b",
   "metadata": {},
   "outputs": [],
   "source": [
    "import pandas as pd\n",
    "import matplotlib.pyplot as plt"
   ]
  },
  {
   "cell_type": "code",
   "execution_count": 3,
   "id": "7d2a244c-33a5-4566-83fd-1b185c155b72",
   "metadata": {},
   "outputs": [],
   "source": [
    "df = pd.read_csv(\"Data Science Job posts.csv\")"
   ]
  },
  {
   "cell_type": "code",
   "execution_count": 4,
   "id": "41455d73-31cd-42f3-a1c9-b30cdc711f95",
   "metadata": {},
   "outputs": [
    {
     "data": {
      "text/html": [
       "<div>\n",
       "<style scoped>\n",
       "    .dataframe tbody tr th:only-of-type {\n",
       "        vertical-align: middle;\n",
       "    }\n",
       "\n",
       "    .dataframe tbody tr th {\n",
       "        vertical-align: top;\n",
       "    }\n",
       "\n",
       "    .dataframe thead th {\n",
       "        text-align: right;\n",
       "    }\n",
       "</style>\n",
       "<table border=\"1\" class=\"dataframe\">\n",
       "  <thead>\n",
       "    <tr style=\"text-align: right;\">\n",
       "      <th></th>\n",
       "      <th>job_title</th>\n",
       "      <th>seniority_level</th>\n",
       "      <th>status</th>\n",
       "      <th>company</th>\n",
       "      <th>location</th>\n",
       "      <th>post_date</th>\n",
       "      <th>headquarter</th>\n",
       "      <th>industry</th>\n",
       "      <th>ownership</th>\n",
       "      <th>company_size</th>\n",
       "      <th>revenue</th>\n",
       "      <th>salary</th>\n",
       "      <th>skills</th>\n",
       "    </tr>\n",
       "  </thead>\n",
       "  <tbody>\n",
       "    <tr>\n",
       "      <th>0</th>\n",
       "      <td>data scientist</td>\n",
       "      <td>senior</td>\n",
       "      <td>hybrid</td>\n",
       "      <td>company_003</td>\n",
       "      <td>Grapevine, TX . Hybrid</td>\n",
       "      <td>17 days ago</td>\n",
       "      <td>Bentonville, AR, US</td>\n",
       "      <td>Retail</td>\n",
       "      <td>Public</td>\n",
       "      <td>€352.44B</td>\n",
       "      <td>Public</td>\n",
       "      <td>€100,472 - €200,938</td>\n",
       "      <td>['spark', 'r', 'python', 'scala', 'machine lea...</td>\n",
       "    </tr>\n",
       "    <tr>\n",
       "      <th>1</th>\n",
       "      <td>data scientist</td>\n",
       "      <td>lead</td>\n",
       "      <td>hybrid</td>\n",
       "      <td>company_005</td>\n",
       "      <td>Fort Worth, TX . Hybrid</td>\n",
       "      <td>15 days ago</td>\n",
       "      <td>Detroit, MI, US</td>\n",
       "      <td>Manufacturing</td>\n",
       "      <td>Public</td>\n",
       "      <td>155,030</td>\n",
       "      <td>€51.10B</td>\n",
       "      <td>€118,733</td>\n",
       "      <td>['spark', 'r', 'python', 'sql', 'machine learn...</td>\n",
       "    </tr>\n",
       "    <tr>\n",
       "      <th>2</th>\n",
       "      <td>data scientist</td>\n",
       "      <td>senior</td>\n",
       "      <td>on-site</td>\n",
       "      <td>company_007</td>\n",
       "      <td>Austin, TX . Toronto, Ontario, Canada . Kirkla...</td>\n",
       "      <td>a month ago</td>\n",
       "      <td>Redwood City, CA, US</td>\n",
       "      <td>Technology</td>\n",
       "      <td>Public</td>\n",
       "      <td>25,930</td>\n",
       "      <td>€33.80B</td>\n",
       "      <td>€94,987 - €159,559</td>\n",
       "      <td>['aws', 'git', 'python', 'docker', 'sql', 'mac...</td>\n",
       "    </tr>\n",
       "    <tr>\n",
       "      <th>3</th>\n",
       "      <td>data scientist</td>\n",
       "      <td>senior</td>\n",
       "      <td>hybrid</td>\n",
       "      <td>company_008</td>\n",
       "      <td>Chicago, IL . Scottsdale, AZ . Austin, TX . Hy...</td>\n",
       "      <td>8 days ago</td>\n",
       "      <td>San Jose, CA, US</td>\n",
       "      <td>Technology</td>\n",
       "      <td>Public</td>\n",
       "      <td>34,690</td>\n",
       "      <td>€81.71B</td>\n",
       "      <td>€112,797 - €194,402</td>\n",
       "      <td>['sql', 'r', 'python']</td>\n",
       "    </tr>\n",
       "    <tr>\n",
       "      <th>4</th>\n",
       "      <td>data scientist</td>\n",
       "      <td>NaN</td>\n",
       "      <td>on-site</td>\n",
       "      <td>company_009</td>\n",
       "      <td>On-site</td>\n",
       "      <td>3 days ago</td>\n",
       "      <td>Stamford, CT, US</td>\n",
       "      <td>Finance</td>\n",
       "      <td>Private</td>\n",
       "      <td>1,800</td>\n",
       "      <td>Private</td>\n",
       "      <td>€114,172 - €228,337</td>\n",
       "      <td>[]</td>\n",
       "    </tr>\n",
       "  </tbody>\n",
       "</table>\n",
       "</div>"
      ],
      "text/plain": [
       "        job_title seniority_level   status      company  \\\n",
       "0  data scientist          senior   hybrid  company_003   \n",
       "1  data scientist            lead   hybrid  company_005   \n",
       "2  data scientist          senior  on-site  company_007   \n",
       "3  data scientist          senior   hybrid  company_008   \n",
       "4  data scientist             NaN  on-site  company_009   \n",
       "\n",
       "                                            location    post_date  \\\n",
       "0                             Grapevine, TX . Hybrid  17 days ago   \n",
       "1                            Fort Worth, TX . Hybrid  15 days ago   \n",
       "2  Austin, TX . Toronto, Ontario, Canada . Kirkla...  a month ago   \n",
       "3  Chicago, IL . Scottsdale, AZ . Austin, TX . Hy...   8 days ago   \n",
       "4                                            On-site   3 days ago   \n",
       "\n",
       "            headquarter       industry ownership company_size  revenue  \\\n",
       "0   Bentonville, AR, US         Retail    Public     €352.44B   Public   \n",
       "1       Detroit, MI, US  Manufacturing    Public      155,030  €51.10B   \n",
       "2  Redwood City, CA, US     Technology    Public       25,930  €33.80B   \n",
       "3      San Jose, CA, US     Technology    Public       34,690  €81.71B   \n",
       "4      Stamford, CT, US        Finance   Private        1,800  Private   \n",
       "\n",
       "                salary                                             skills  \n",
       "0  €100,472 - €200,938  ['spark', 'r', 'python', 'scala', 'machine lea...  \n",
       "1             €118,733  ['spark', 'r', 'python', 'sql', 'machine learn...  \n",
       "2   €94,987 - €159,559  ['aws', 'git', 'python', 'docker', 'sql', 'mac...  \n",
       "3  €112,797 - €194,402                             ['sql', 'r', 'python']  \n",
       "4  €114,172 - €228,337                                                 []  "
      ]
     },
     "execution_count": 4,
     "metadata": {},
     "output_type": "execute_result"
    }
   ],
   "source": [
    "df.head()"
   ]
  },
  {
   "cell_type": "code",
   "execution_count": 11,
   "id": "20018232-8368-4b66-8648-429cb9e1b9fb",
   "metadata": {},
   "outputs": [
    {
     "data": {
      "text/plain": [
       "job_title          object\n",
       "seniority_level    object\n",
       "status             object\n",
       "company            object\n",
       "location           object\n",
       "post_date          object\n",
       "headquarter        object\n",
       "industry           object\n",
       "ownership          object\n",
       "company_size       object\n",
       "revenue            object\n",
       "salary             object\n",
       "skills             object\n",
       "dtype: object"
      ]
     },
     "execution_count": 11,
     "metadata": {},
     "output_type": "execute_result"
    }
   ],
   "source": [
    "df.dtypes"
   ]
  },
  {
   "cell_type": "code",
   "execution_count": 5,
   "id": "9d158e74-2248-4569-b824-d431dc66366e",
   "metadata": {},
   "outputs": [
    {
     "name": "stdout",
     "output_type": "stream",
     "text": [
      "<class 'pandas.core.frame.DataFrame'>\n",
      "RangeIndex: 944 entries, 0 to 943\n",
      "Data columns (total 13 columns):\n",
      " #   Column           Non-Null Count  Dtype \n",
      "---  ------           --------------  ----- \n",
      " 0   job_title        941 non-null    object\n",
      " 1   seniority_level  884 non-null    object\n",
      " 2   status           688 non-null    object\n",
      " 3   company          944 non-null    object\n",
      " 4   location         942 non-null    object\n",
      " 5   post_date        944 non-null    object\n",
      " 6   headquarter      944 non-null    object\n",
      " 7   industry         944 non-null    object\n",
      " 8   ownership        897 non-null    object\n",
      " 9   company_size     944 non-null    object\n",
      " 10  revenue          929 non-null    object\n",
      " 11  salary           944 non-null    object\n",
      " 12  skills           944 non-null    object\n",
      "dtypes: object(13)\n",
      "memory usage: 96.0+ KB\n"
     ]
    }
   ],
   "source": [
    "df.info()"
   ]
  },
  {
   "cell_type": "code",
   "execution_count": 6,
   "id": "8b256c78-96ba-4f53-a293-cde3dab65d8f",
   "metadata": {},
   "outputs": [
    {
     "data": {
      "text/plain": [
       "job_title            3\n",
       "seniority_level     60\n",
       "status             256\n",
       "company              0\n",
       "location             2\n",
       "post_date            0\n",
       "headquarter          0\n",
       "industry             0\n",
       "ownership           47\n",
       "company_size         0\n",
       "revenue             15\n",
       "salary               0\n",
       "skills               0\n",
       "dtype: int64"
      ]
     },
     "execution_count": 6,
     "metadata": {},
     "output_type": "execute_result"
    }
   ],
   "source": [
    "# Check for missing values\n",
    "df.isnull().sum()"
   ]
  },
  {
   "cell_type": "code",
   "execution_count": 10,
   "id": "62ac8ab2-a729-4400-870f-d99bd5cb4f59",
   "metadata": {},
   "outputs": [
    {
     "data": {
      "text/plain": [
       "0"
      ]
     },
     "execution_count": 10,
     "metadata": {},
     "output_type": "execute_result"
    }
   ],
   "source": [
    "# check for duplicates\n",
    "df.duplicated().sum()"
   ]
  },
  {
   "cell_type": "code",
   "execution_count": null,
   "id": "628b7985-c354-4240-9a5b-bce8d5051d86",
   "metadata": {},
   "outputs": [],
   "source": []
  }
 ],
 "metadata": {
  "kernelspec": {
   "display_name": "Python 3 (ipykernel)",
   "language": "python",
   "name": "python3"
  },
  "language_info": {
   "codemirror_mode": {
    "name": "ipython",
    "version": 3
   },
   "file_extension": ".py",
   "mimetype": "text/x-python",
   "name": "python",
   "nbconvert_exporter": "python",
   "pygments_lexer": "ipython3",
   "version": "3.11.7"
  }
 },
 "nbformat": 4,
 "nbformat_minor": 5
}
