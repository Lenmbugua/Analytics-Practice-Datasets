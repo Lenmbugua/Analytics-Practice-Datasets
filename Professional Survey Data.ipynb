{
 "cells": [
  {
   "cell_type": "code",
   "execution_count": 1,
   "id": "4dcbca1c-7513-4509-9ae9-b52f9cf191e1",
   "metadata": {},
   "outputs": [],
   "source": [
    "import pandas as pd\n",
    "import matplotlib.pyplot as plt\n",
    "import seaborn as sns"
   ]
  },
  {
   "cell_type": "code",
   "execution_count": 2,
   "id": "b024f1e2-e74e-421a-b348-0ae98a5df87f",
   "metadata": {},
   "outputs": [],
   "source": [
    "df = pd.read_excel(\"Professional Survey Data.xlsx\") "
   ]
  },
  {
   "cell_type": "code",
   "execution_count": 3,
   "id": "fb671bde-ed57-43d2-9dde-7b3f90d9081d",
   "metadata": {},
   "outputs": [
    {
     "data": {
      "text/html": [
       "<div>\n",
       "<style scoped>\n",
       "    .dataframe tbody tr th:only-of-type {\n",
       "        vertical-align: middle;\n",
       "    }\n",
       "\n",
       "    .dataframe tbody tr th {\n",
       "        vertical-align: top;\n",
       "    }\n",
       "\n",
       "    .dataframe thead th {\n",
       "        text-align: right;\n",
       "    }\n",
       "</style>\n",
       "<table border=\"1\" class=\"dataframe\">\n",
       "  <thead>\n",
       "    <tr style=\"text-align: right;\">\n",
       "      <th></th>\n",
       "      <th>Unique ID</th>\n",
       "      <th>Email</th>\n",
       "      <th>Date Taken (America/New_York)</th>\n",
       "      <th>Time Taken (America/New_York)</th>\n",
       "      <th>Browser</th>\n",
       "      <th>OS</th>\n",
       "      <th>City</th>\n",
       "      <th>Country</th>\n",
       "      <th>Referrer</th>\n",
       "      <th>Time Spent</th>\n",
       "      <th>...</th>\n",
       "      <th>Q6 - How Happy are you in your Current Position with the following? (Management)</th>\n",
       "      <th>Q6 - How Happy are you in your Current Position with the following? (Upward Mobility)</th>\n",
       "      <th>Q6 - How Happy are you in your Current Position with the following? (Learning New Things)</th>\n",
       "      <th>Q7 - How difficult was it for you to break into Data?</th>\n",
       "      <th>Q8 - If you were to look for a new job today, what would be the most important thing to you?</th>\n",
       "      <th>Q9 - Male/Female?</th>\n",
       "      <th>Q10 - Current Age</th>\n",
       "      <th>Q11 - Which Country do you live in?</th>\n",
       "      <th>Q12 - Highest Level of Education</th>\n",
       "      <th>Q13 - Ethnicity</th>\n",
       "    </tr>\n",
       "  </thead>\n",
       "  <tbody>\n",
       "    <tr>\n",
       "      <th>0</th>\n",
       "      <td>62a33b3db4da29969c62df3d</td>\n",
       "      <td>anonymous</td>\n",
       "      <td>6/10/2022</td>\n",
       "      <td>8:38</td>\n",
       "      <td>NaN</td>\n",
       "      <td>NaN</td>\n",
       "      <td>NaN</td>\n",
       "      <td>NaN</td>\n",
       "      <td>NaN</td>\n",
       "      <td>0:00:44</td>\n",
       "      <td>...</td>\n",
       "      <td>5.0</td>\n",
       "      <td>5.0</td>\n",
       "      <td>7.0</td>\n",
       "      <td>Very Difficult</td>\n",
       "      <td>Remote Work</td>\n",
       "      <td>Male</td>\n",
       "      <td>26</td>\n",
       "      <td>United States</td>\n",
       "      <td>NaN</td>\n",
       "      <td>White or Caucasian</td>\n",
       "    </tr>\n",
       "    <tr>\n",
       "      <th>1</th>\n",
       "      <td>62a33ba1bae91e4b8b82e35c</td>\n",
       "      <td>anonymous</td>\n",
       "      <td>6/10/2022</td>\n",
       "      <td>8:40</td>\n",
       "      <td>NaN</td>\n",
       "      <td>NaN</td>\n",
       "      <td>NaN</td>\n",
       "      <td>NaN</td>\n",
       "      <td>NaN</td>\n",
       "      <td>0:01:30</td>\n",
       "      <td>...</td>\n",
       "      <td>2.0</td>\n",
       "      <td>1.0</td>\n",
       "      <td>3.0</td>\n",
       "      <td>Very Difficult</td>\n",
       "      <td>Remote Work</td>\n",
       "      <td>Male</td>\n",
       "      <td>36</td>\n",
       "      <td>Canada</td>\n",
       "      <td>NaN</td>\n",
       "      <td>Asian or Asian American</td>\n",
       "    </tr>\n",
       "    <tr>\n",
       "      <th>2</th>\n",
       "      <td>62a33c2cbc6861bf3176bec1</td>\n",
       "      <td>anonymous</td>\n",
       "      <td>6/10/2022</td>\n",
       "      <td>8:42</td>\n",
       "      <td>NaN</td>\n",
       "      <td>NaN</td>\n",
       "      <td>NaN</td>\n",
       "      <td>NaN</td>\n",
       "      <td>NaN</td>\n",
       "      <td>0:02:18</td>\n",
       "      <td>...</td>\n",
       "      <td>5.0</td>\n",
       "      <td>7.0</td>\n",
       "      <td>7.0</td>\n",
       "      <td>Easy</td>\n",
       "      <td>Good Work/Life Balance</td>\n",
       "      <td>Male</td>\n",
       "      <td>23</td>\n",
       "      <td>Other (Please Specify):Nigeria</td>\n",
       "      <td>NaN</td>\n",
       "      <td>Black or African American</td>\n",
       "    </tr>\n",
       "    <tr>\n",
       "      <th>3</th>\n",
       "      <td>62a33c8624a26260273822f9</td>\n",
       "      <td>anonymous</td>\n",
       "      <td>6/10/2022</td>\n",
       "      <td>8:43</td>\n",
       "      <td>NaN</td>\n",
       "      <td>NaN</td>\n",
       "      <td>NaN</td>\n",
       "      <td>NaN</td>\n",
       "      <td>NaN</td>\n",
       "      <td>0:02:10</td>\n",
       "      <td>...</td>\n",
       "      <td>10.0</td>\n",
       "      <td>7.0</td>\n",
       "      <td>10.0</td>\n",
       "      <td>Very Easy</td>\n",
       "      <td>Remote Work</td>\n",
       "      <td>Female</td>\n",
       "      <td>35</td>\n",
       "      <td>Canada</td>\n",
       "      <td>NaN</td>\n",
       "      <td>White or Caucasian</td>\n",
       "    </tr>\n",
       "    <tr>\n",
       "      <th>4</th>\n",
       "      <td>62a33c91f3072dd892621e03</td>\n",
       "      <td>anonymous</td>\n",
       "      <td>6/10/2022</td>\n",
       "      <td>8:44</td>\n",
       "      <td>NaN</td>\n",
       "      <td>NaN</td>\n",
       "      <td>NaN</td>\n",
       "      <td>NaN</td>\n",
       "      <td>NaN</td>\n",
       "      <td>0:01:51</td>\n",
       "      <td>...</td>\n",
       "      <td>4.0</td>\n",
       "      <td>0.0</td>\n",
       "      <td>1.0</td>\n",
       "      <td>Difficult</td>\n",
       "      <td>Better Salary</td>\n",
       "      <td>Male</td>\n",
       "      <td>44</td>\n",
       "      <td>United States</td>\n",
       "      <td>NaN</td>\n",
       "      <td>Black or African American</td>\n",
       "    </tr>\n",
       "  </tbody>\n",
       "</table>\n",
       "<p>5 rows × 28 columns</p>\n",
       "</div>"
      ],
      "text/plain": [
       "                  Unique ID      Email Date Taken (America/New_York)  \\\n",
       "0  62a33b3db4da29969c62df3d  anonymous                     6/10/2022   \n",
       "1  62a33ba1bae91e4b8b82e35c  anonymous                     6/10/2022   \n",
       "2  62a33c2cbc6861bf3176bec1  anonymous                     6/10/2022   \n",
       "3  62a33c8624a26260273822f9  anonymous                     6/10/2022   \n",
       "4  62a33c91f3072dd892621e03  anonymous                     6/10/2022   \n",
       "\n",
       "  Time Taken (America/New_York)  Browser  OS  City  Country  Referrer  \\\n",
       "0                          8:38      NaN NaN   NaN      NaN       NaN   \n",
       "1                          8:40      NaN NaN   NaN      NaN       NaN   \n",
       "2                          8:42      NaN NaN   NaN      NaN       NaN   \n",
       "3                          8:43      NaN NaN   NaN      NaN       NaN   \n",
       "4                          8:44      NaN NaN   NaN      NaN       NaN   \n",
       "\n",
       "  Time Spent  ...  \\\n",
       "0    0:00:44  ...   \n",
       "1    0:01:30  ...   \n",
       "2    0:02:18  ...   \n",
       "3    0:02:10  ...   \n",
       "4    0:01:51  ...   \n",
       "\n",
       "  Q6 - How Happy are you in your Current Position with the following? (Management)  \\\n",
       "0                                                5.0                                 \n",
       "1                                                2.0                                 \n",
       "2                                                5.0                                 \n",
       "3                                               10.0                                 \n",
       "4                                                4.0                                 \n",
       "\n",
       "  Q6 - How Happy are you in your Current Position with the following? (Upward Mobility)  \\\n",
       "0                                                5.0                                      \n",
       "1                                                1.0                                      \n",
       "2                                                7.0                                      \n",
       "3                                                7.0                                      \n",
       "4                                                0.0                                      \n",
       "\n",
       "  Q6 - How Happy are you in your Current Position with the following? (Learning New Things)  \\\n",
       "0                                                7.0                                          \n",
       "1                                                3.0                                          \n",
       "2                                                7.0                                          \n",
       "3                                               10.0                                          \n",
       "4                                                1.0                                          \n",
       "\n",
       "  Q7 - How difficult was it for you to break into Data?  \\\n",
       "0                                     Very Difficult      \n",
       "1                                     Very Difficult      \n",
       "2                                               Easy      \n",
       "3                                          Very Easy      \n",
       "4                                          Difficult      \n",
       "\n",
       "  Q8 - If you were to look for a new job today, what would be the most important thing to you?  \\\n",
       "0                                        Remote Work                                             \n",
       "1                                        Remote Work                                             \n",
       "2                             Good Work/Life Balance                                             \n",
       "3                                        Remote Work                                             \n",
       "4                                      Better Salary                                             \n",
       "\n",
       "   Q9 - Male/Female?  Q10 - Current Age  Q11 - Which Country do you live in?  \\\n",
       "0               Male                 26                        United States   \n",
       "1               Male                 36                               Canada   \n",
       "2               Male                 23       Other (Please Specify):Nigeria   \n",
       "3             Female                 35                               Canada   \n",
       "4               Male                 44                        United States   \n",
       "\n",
       "   Q12 - Highest Level of Education            Q13 - Ethnicity  \n",
       "0                               NaN         White or Caucasian  \n",
       "1                               NaN    Asian or Asian American  \n",
       "2                               NaN  Black or African American  \n",
       "3                               NaN         White or Caucasian  \n",
       "4                               NaN  Black or African American  \n",
       "\n",
       "[5 rows x 28 columns]"
      ]
     },
     "execution_count": 3,
     "metadata": {},
     "output_type": "execute_result"
    }
   ],
   "source": [
    "df.head()"
   ]
  },
  {
   "cell_type": "code",
   "execution_count": 4,
   "id": "307a41bd-bf75-42b0-ab94-ac2619fdeb32",
   "metadata": {},
   "outputs": [
    {
     "name": "stdout",
     "output_type": "stream",
     "text": [
      "<class 'pandas.core.frame.DataFrame'>\n",
      "RangeIndex: 630 entries, 0 to 629\n",
      "Data columns (total 28 columns):\n",
      " #   Column                                                                                        Non-Null Count  Dtype  \n",
      "---  ------                                                                                        --------------  -----  \n",
      " 0   Unique ID                                                                                     630 non-null    object \n",
      " 1   Email                                                                                         630 non-null    object \n",
      " 2   Date Taken (America/New_York)                                                                 630 non-null    object \n",
      " 3   Time Taken (America/New_York)                                                                 630 non-null    object \n",
      " 4   Browser                                                                                       0 non-null      float64\n",
      " 5   OS                                                                                            0 non-null      float64\n",
      " 6   City                                                                                          0 non-null      float64\n",
      " 7   Country                                                                                       0 non-null      float64\n",
      " 8   Referrer                                                                                      0 non-null      float64\n",
      " 9   Time Spent                                                                                    630 non-null    object \n",
      " 10  Q1 - Which Title Best Fits your Current Role?                                                 630 non-null    object \n",
      " 11  Q2 - Did you switch careers into Data?                                                        630 non-null    object \n",
      " 12  Q3 - Current Yearly Salary (in USD)                                                           630 non-null    object \n",
      " 13  Q4 - What Industry do you work in?                                                            630 non-null    object \n",
      " 14  Q5 - Favorite Programming Language                                                            630 non-null    object \n",
      " 15  Q6 - How Happy are you in your Current Position with the following? (Salary)                  623 non-null    float64\n",
      " 16  Q6 - How Happy are you in your Current Position with the following? (Work/Life Balance)       620 non-null    float64\n",
      " 17  Q6 - How Happy are you in your Current Position with the following? (Coworkers)               619 non-null    float64\n",
      " 18  Q6 - How Happy are you in your Current Position with the following? (Management)              618 non-null    float64\n",
      " 19  Q6 - How Happy are you in your Current Position with the following? (Upward Mobility)         617 non-null    float64\n",
      " 20  Q6 - How Happy are you in your Current Position with the following? (Learning New Things)     625 non-null    float64\n",
      " 21  Q7 - How difficult was it for you to break into Data?                                         630 non-null    object \n",
      " 22  Q8 - If you were to look for a new job today, what would be the most important thing to you?  630 non-null    object \n",
      " 23  Q9 - Male/Female?                                                                             630 non-null    object \n",
      " 24  Q10 - Current Age                                                                             630 non-null    int64  \n",
      " 25  Q11 - Which Country do you live in?                                                           630 non-null    object \n",
      " 26  Q12 - Highest Level of Education                                                              578 non-null    object \n",
      " 27  Q13 - Ethnicity                                                                               630 non-null    object \n",
      "dtypes: float64(11), int64(1), object(16)\n",
      "memory usage: 137.9+ KB\n"
     ]
    }
   ],
   "source": [
    "df.info()"
   ]
  },
  {
   "cell_type": "code",
   "execution_count": 5,
   "id": "8cb2db71-e44b-4195-8027-0cbc00d6407d",
   "metadata": {},
   "outputs": [
    {
     "data": {
      "text/plain": [
       "Unique ID                                                                                         0\n",
       "Email                                                                                             0\n",
       "Date Taken (America/New_York)                                                                     0\n",
       "Time Taken (America/New_York)                                                                     0\n",
       "Browser                                                                                         630\n",
       "OS                                                                                              630\n",
       "City                                                                                            630\n",
       "Country                                                                                         630\n",
       "Referrer                                                                                        630\n",
       "Time Spent                                                                                        0\n",
       "Q1 - Which Title Best Fits your Current Role?                                                     0\n",
       "Q2 - Did you switch careers into Data?                                                            0\n",
       "Q3 - Current Yearly Salary (in USD)                                                               0\n",
       "Q4 - What Industry do you work in?                                                                0\n",
       "Q5 - Favorite Programming Language                                                                0\n",
       "Q6 - How Happy are you in your Current Position with the following? (Salary)                      7\n",
       "Q6 - How Happy are you in your Current Position with the following? (Work/Life Balance)          10\n",
       "Q6 - How Happy are you in your Current Position with the following? (Coworkers)                  11\n",
       "Q6 - How Happy are you in your Current Position with the following? (Management)                 12\n",
       "Q6 - How Happy are you in your Current Position with the following? (Upward Mobility)            13\n",
       "Q6 - How Happy are you in your Current Position with the following? (Learning New Things)         5\n",
       "Q7 - How difficult was it for you to break into Data?                                             0\n",
       "Q8 - If you were to look for a new job today, what would be the most important thing to you?      0\n",
       "Q9 - Male/Female?                                                                                 0\n",
       "Q10 - Current Age                                                                                 0\n",
       "Q11 - Which Country do you live in?                                                               0\n",
       "Q12 - Highest Level of Education                                                                 52\n",
       "Q13 - Ethnicity                                                                                   0\n",
       "dtype: int64"
      ]
     },
     "execution_count": 5,
     "metadata": {},
     "output_type": "execute_result"
    }
   ],
   "source": [
    "# Check the columns that are empty       \n",
    "df.isnull().sum()"
   ]
  },
  {
   "cell_type": "code",
   "execution_count": 6,
   "id": "a26e1ad4-c590-4f8d-b5b2-9de36871e609",
   "metadata": {},
   "outputs": [],
   "source": [
    "# Drop columns that are purely empty\n",
    "df = df.drop(columns=[\"Browser\", \"OS\", \"City\",\"Country\",\"Referrer\"])"
   ]
  },
  {
   "cell_type": "code",
   "execution_count": 7,
   "id": "c0431e10-06f5-4787-a458-ab0d00b7c091",
   "metadata": {},
   "outputs": [
    {
     "name": "stdout",
     "output_type": "stream",
     "text": [
      "<class 'pandas.core.frame.DataFrame'>\n",
      "RangeIndex: 630 entries, 0 to 629\n",
      "Data columns (total 23 columns):\n",
      " #   Column                                                                                        Non-Null Count  Dtype  \n",
      "---  ------                                                                                        --------------  -----  \n",
      " 0   Unique ID                                                                                     630 non-null    object \n",
      " 1   Email                                                                                         630 non-null    object \n",
      " 2   Date Taken (America/New_York)                                                                 630 non-null    object \n",
      " 3   Time Taken (America/New_York)                                                                 630 non-null    object \n",
      " 4   Time Spent                                                                                    630 non-null    object \n",
      " 5   Q1 - Which Title Best Fits your Current Role?                                                 630 non-null    object \n",
      " 6   Q2 - Did you switch careers into Data?                                                        630 non-null    object \n",
      " 7   Q3 - Current Yearly Salary (in USD)                                                           630 non-null    object \n",
      " 8   Q4 - What Industry do you work in?                                                            630 non-null    object \n",
      " 9   Q5 - Favorite Programming Language                                                            630 non-null    object \n",
      " 10  Q6 - How Happy are you in your Current Position with the following? (Salary)                  623 non-null    float64\n",
      " 11  Q6 - How Happy are you in your Current Position with the following? (Work/Life Balance)       620 non-null    float64\n",
      " 12  Q6 - How Happy are you in your Current Position with the following? (Coworkers)               619 non-null    float64\n",
      " 13  Q6 - How Happy are you in your Current Position with the following? (Management)              618 non-null    float64\n",
      " 14  Q6 - How Happy are you in your Current Position with the following? (Upward Mobility)         617 non-null    float64\n",
      " 15  Q6 - How Happy are you in your Current Position with the following? (Learning New Things)     625 non-null    float64\n",
      " 16  Q7 - How difficult was it for you to break into Data?                                         630 non-null    object \n",
      " 17  Q8 - If you were to look for a new job today, what would be the most important thing to you?  630 non-null    object \n",
      " 18  Q9 - Male/Female?                                                                             630 non-null    object \n",
      " 19  Q10 - Current Age                                                                             630 non-null    int64  \n",
      " 20  Q11 - Which Country do you live in?                                                           630 non-null    object \n",
      " 21  Q12 - Highest Level of Education                                                              578 non-null    object \n",
      " 22  Q13 - Ethnicity                                                                               630 non-null    object \n",
      "dtypes: float64(6), int64(1), object(16)\n",
      "memory usage: 113.3+ KB\n"
     ]
    }
   ],
   "source": [
    "df.info()"
   ]
  },
  {
   "cell_type": "code",
   "execution_count": 8,
   "id": "cc131749-635d-4643-afbb-e0f3a686c1ac",
   "metadata": {},
   "outputs": [
    {
     "data": {
      "text/plain": [
       "0      False\n",
       "1      False\n",
       "2      False\n",
       "3      False\n",
       "4      False\n",
       "       ...  \n",
       "625    False\n",
       "626    False\n",
       "627    False\n",
       "628    False\n",
       "629    False\n",
       "Length: 630, dtype: bool"
      ]
     },
     "execution_count": 8,
     "metadata": {},
     "output_type": "execute_result"
    }
   ],
   "source": [
    "# check for duplicates\n",
    "df.duplicated()"
   ]
  },
  {
   "cell_type": "code",
   "execution_count": 9,
   "id": "0e1f3e23-c803-46b5-bfea-125d50c6112c",
   "metadata": {},
   "outputs": [
    {
     "data": {
      "text/plain": [
       "0"
      ]
     },
     "execution_count": 9,
     "metadata": {},
     "output_type": "execute_result"
    }
   ],
   "source": [
    "#Count Total Duplicates\n",
    "df.duplicated().sum()"
   ]
  },
  {
   "cell_type": "code",
   "execution_count": 10,
   "id": "107e1e6d-99ec-4090-aa99-d621c1ce8f82",
   "metadata": {},
   "outputs": [
    {
     "data": {
      "text/plain": [
       "Unique ID                                                                                        0\n",
       "Email                                                                                            0\n",
       "Date Taken (America/New_York)                                                                    0\n",
       "Time Taken (America/New_York)                                                                    0\n",
       "Time Spent                                                                                       0\n",
       "Q1 - Which Title Best Fits your Current Role?                                                    0\n",
       "Q2 - Did you switch careers into Data?                                                           0\n",
       "Q3 - Current Yearly Salary (in USD)                                                              0\n",
       "Q4 - What Industry do you work in?                                                               0\n",
       "Q5 - Favorite Programming Language                                                               0\n",
       "Q6 - How Happy are you in your Current Position with the following? (Salary)                     7\n",
       "Q6 - How Happy are you in your Current Position with the following? (Work/Life Balance)         10\n",
       "Q6 - How Happy are you in your Current Position with the following? (Coworkers)                 11\n",
       "Q6 - How Happy are you in your Current Position with the following? (Management)                12\n",
       "Q6 - How Happy are you in your Current Position with the following? (Upward Mobility)           13\n",
       "Q6 - How Happy are you in your Current Position with the following? (Learning New Things)        5\n",
       "Q7 - How difficult was it for you to break into Data?                                            0\n",
       "Q8 - If you were to look for a new job today, what would be the most important thing to you?     0\n",
       "Q9 - Male/Female?                                                                                0\n",
       "Q10 - Current Age                                                                                0\n",
       "Q11 - Which Country do you live in?                                                              0\n",
       "Q12 - Highest Level of Education                                                                52\n",
       "Q13 - Ethnicity                                                                                  0\n",
       "dtype: int64"
      ]
     },
     "execution_count": 10,
     "metadata": {},
     "output_type": "execute_result"
    }
   ],
   "source": [
    "#Count of nulls per column\n",
    "df.isnull().sum()"
   ]
  },
  {
   "cell_type": "markdown",
   "id": "f53a0c9f-9152-428b-be9b-9171ac6c2c2a",
   "metadata": {},
   "source": [
    "Q1. Compute Salary Statistics"
   ]
  },
  {
   "cell_type": "code",
   "execution_count": 11,
   "id": "86751db4-9150-479d-be75-c753fe255ce2",
   "metadata": {},
   "outputs": [
    {
     "data": {
      "text/html": [
       "<div>\n",
       "<style scoped>\n",
       "    .dataframe tbody tr th:only-of-type {\n",
       "        vertical-align: middle;\n",
       "    }\n",
       "\n",
       "    .dataframe tbody tr th {\n",
       "        vertical-align: top;\n",
       "    }\n",
       "\n",
       "    .dataframe thead th {\n",
       "        text-align: right;\n",
       "    }\n",
       "</style>\n",
       "<table border=\"1\" class=\"dataframe\">\n",
       "  <thead>\n",
       "    <tr style=\"text-align: right;\">\n",
       "      <th></th>\n",
       "      <th>Unique ID</th>\n",
       "      <th>Email</th>\n",
       "      <th>Date Taken (America/New_York)</th>\n",
       "      <th>Time Taken (America/New_York)</th>\n",
       "      <th>Time Spent</th>\n",
       "      <th>Q1 - Which Title Best Fits your Current Role?</th>\n",
       "      <th>Q2 - Did you switch careers into Data?</th>\n",
       "      <th>Q3 - Current Yearly Salary (in USD)</th>\n",
       "      <th>Q4 - What Industry do you work in?</th>\n",
       "      <th>Q5 - Favorite Programming Language</th>\n",
       "      <th>...</th>\n",
       "      <th>Q6 - How Happy are you in your Current Position with the following? (Management)</th>\n",
       "      <th>Q6 - How Happy are you in your Current Position with the following? (Upward Mobility)</th>\n",
       "      <th>Q6 - How Happy are you in your Current Position with the following? (Learning New Things)</th>\n",
       "      <th>Q7 - How difficult was it for you to break into Data?</th>\n",
       "      <th>Q8 - If you were to look for a new job today, what would be the most important thing to you?</th>\n",
       "      <th>Q9 - Male/Female?</th>\n",
       "      <th>Q10 - Current Age</th>\n",
       "      <th>Q11 - Which Country do you live in?</th>\n",
       "      <th>Q12 - Highest Level of Education</th>\n",
       "      <th>Q13 - Ethnicity</th>\n",
       "    </tr>\n",
       "  </thead>\n",
       "  <tbody>\n",
       "    <tr>\n",
       "      <th>0</th>\n",
       "      <td>62a33b3db4da29969c62df3d</td>\n",
       "      <td>anonymous</td>\n",
       "      <td>6/10/2022</td>\n",
       "      <td>8:38</td>\n",
       "      <td>0:00:44</td>\n",
       "      <td>Data Analyst</td>\n",
       "      <td>Yes</td>\n",
       "      <td>106k-125k</td>\n",
       "      <td>Healthcare</td>\n",
       "      <td>Python</td>\n",
       "      <td>...</td>\n",
       "      <td>5.0</td>\n",
       "      <td>5.0</td>\n",
       "      <td>7.0</td>\n",
       "      <td>Very Difficult</td>\n",
       "      <td>Remote Work</td>\n",
       "      <td>Male</td>\n",
       "      <td>26</td>\n",
       "      <td>United States</td>\n",
       "      <td>NaN</td>\n",
       "      <td>White or Caucasian</td>\n",
       "    </tr>\n",
       "    <tr>\n",
       "      <th>1</th>\n",
       "      <td>62a33ba1bae91e4b8b82e35c</td>\n",
       "      <td>anonymous</td>\n",
       "      <td>6/10/2022</td>\n",
       "      <td>8:40</td>\n",
       "      <td>0:01:30</td>\n",
       "      <td>Data Analyst</td>\n",
       "      <td>No</td>\n",
       "      <td>41k-65k</td>\n",
       "      <td>Finance</td>\n",
       "      <td>R</td>\n",
       "      <td>...</td>\n",
       "      <td>2.0</td>\n",
       "      <td>1.0</td>\n",
       "      <td>3.0</td>\n",
       "      <td>Very Difficult</td>\n",
       "      <td>Remote Work</td>\n",
       "      <td>Male</td>\n",
       "      <td>36</td>\n",
       "      <td>Canada</td>\n",
       "      <td>NaN</td>\n",
       "      <td>Asian or Asian American</td>\n",
       "    </tr>\n",
       "  </tbody>\n",
       "</table>\n",
       "<p>2 rows × 23 columns</p>\n",
       "</div>"
      ],
      "text/plain": [
       "                  Unique ID      Email Date Taken (America/New_York)  \\\n",
       "0  62a33b3db4da29969c62df3d  anonymous                     6/10/2022   \n",
       "1  62a33ba1bae91e4b8b82e35c  anonymous                     6/10/2022   \n",
       "\n",
       "  Time Taken (America/New_York) Time Spent  \\\n",
       "0                          8:38    0:00:44   \n",
       "1                          8:40    0:01:30   \n",
       "\n",
       "  Q1 - Which Title Best Fits your Current Role?  \\\n",
       "0                                  Data Analyst   \n",
       "1                                  Data Analyst   \n",
       "\n",
       "  Q2 - Did you switch careers into Data? Q3 - Current Yearly Salary (in USD)  \\\n",
       "0                                    Yes                           106k-125k   \n",
       "1                                     No                             41k-65k   \n",
       "\n",
       "  Q4 - What Industry do you work in? Q5 - Favorite Programming Language  ...  \\\n",
       "0                         Healthcare                             Python  ...   \n",
       "1                            Finance                                  R  ...   \n",
       "\n",
       "   Q6 - How Happy are you in your Current Position with the following? (Management)  \\\n",
       "0                                                5.0                                  \n",
       "1                                                2.0                                  \n",
       "\n",
       "   Q6 - How Happy are you in your Current Position with the following? (Upward Mobility)  \\\n",
       "0                                                5.0                                       \n",
       "1                                                1.0                                       \n",
       "\n",
       "   Q6 - How Happy are you in your Current Position with the following? (Learning New Things)  \\\n",
       "0                                                7.0                                           \n",
       "1                                                3.0                                           \n",
       "\n",
       "   Q7 - How difficult was it for you to break into Data?  \\\n",
       "0                                     Very Difficult       \n",
       "1                                     Very Difficult       \n",
       "\n",
       "   Q8 - If you were to look for a new job today, what would be the most important thing to you?  \\\n",
       "0                                        Remote Work                                              \n",
       "1                                        Remote Work                                              \n",
       "\n",
       "   Q9 - Male/Female? Q10 - Current Age Q11 - Which Country do you live in?  \\\n",
       "0               Male                26                       United States   \n",
       "1               Male                36                              Canada   \n",
       "\n",
       "  Q12 - Highest Level of Education          Q13 - Ethnicity  \n",
       "0                              NaN       White or Caucasian  \n",
       "1                              NaN  Asian or Asian American  \n",
       "\n",
       "[2 rows x 23 columns]"
      ]
     },
     "execution_count": 11,
     "metadata": {},
     "output_type": "execute_result"
    }
   ],
   "source": [
    "df.head(2)"
   ]
  },
  {
   "cell_type": "code",
   "execution_count": 12,
   "id": "088aa7da-113c-4e4b-ac3a-d00f04a35567",
   "metadata": {},
   "outputs": [
    {
     "data": {
      "text/plain": [
       "count       630\n",
       "unique        8\n",
       "top       0-40k\n",
       "freq        275\n",
       "Name: Q3 - Current Yearly Salary (in USD), dtype: object"
      ]
     },
     "execution_count": 12,
     "metadata": {},
     "output_type": "execute_result"
    }
   ],
   "source": [
    "# TODO: compute salary statistics\n",
    "df['Q3 - Current Yearly Salary (in USD)'].describe()"
   ]
  },
  {
   "cell_type": "code",
   "execution_count": 13,
   "id": "0c8eeada-6d2b-4d6c-a557-5b2b2d651859",
   "metadata": {},
   "outputs": [
    {
     "ename": "TypeError",
     "evalue": "agg function failed [how->mean,dtype->object]",
     "output_type": "error",
     "traceback": [
      "\u001b[1;31m---------------------------------------------------------------------------\u001b[0m",
      "\u001b[1;31mTypeError\u001b[0m                                 Traceback (most recent call last)",
      "File \u001b[1;32m~\\anaconda3\\Lib\\site-packages\\pandas\\core\\groupby\\groupby.py:1874\u001b[0m, in \u001b[0;36mGroupBy._agg_py_fallback\u001b[1;34m(self, how, values, ndim, alt)\u001b[0m\n\u001b[0;32m   1873\u001b[0m \u001b[38;5;28;01mtry\u001b[39;00m:\n\u001b[1;32m-> 1874\u001b[0m     res_values \u001b[38;5;241m=\u001b[39m \u001b[38;5;28mself\u001b[39m\u001b[38;5;241m.\u001b[39mgrouper\u001b[38;5;241m.\u001b[39magg_series(ser, alt, preserve_dtype\u001b[38;5;241m=\u001b[39m\u001b[38;5;28;01mTrue\u001b[39;00m)\n\u001b[0;32m   1875\u001b[0m \u001b[38;5;28;01mexcept\u001b[39;00m \u001b[38;5;167;01mException\u001b[39;00m \u001b[38;5;28;01mas\u001b[39;00m err:\n",
      "File \u001b[1;32m~\\anaconda3\\Lib\\site-packages\\pandas\\core\\groupby\\ops.py:849\u001b[0m, in \u001b[0;36mBaseGrouper.agg_series\u001b[1;34m(self, obj, func, preserve_dtype)\u001b[0m\n\u001b[0;32m    847\u001b[0m     preserve_dtype \u001b[38;5;241m=\u001b[39m \u001b[38;5;28;01mTrue\u001b[39;00m\n\u001b[1;32m--> 849\u001b[0m result \u001b[38;5;241m=\u001b[39m \u001b[38;5;28mself\u001b[39m\u001b[38;5;241m.\u001b[39m_aggregate_series_pure_python(obj, func)\n\u001b[0;32m    851\u001b[0m \u001b[38;5;28;01mif\u001b[39;00m \u001b[38;5;28mlen\u001b[39m(obj) \u001b[38;5;241m==\u001b[39m \u001b[38;5;241m0\u001b[39m \u001b[38;5;129;01mand\u001b[39;00m \u001b[38;5;28mlen\u001b[39m(result) \u001b[38;5;241m==\u001b[39m \u001b[38;5;241m0\u001b[39m \u001b[38;5;129;01mand\u001b[39;00m \u001b[38;5;28misinstance\u001b[39m(obj\u001b[38;5;241m.\u001b[39mdtype, ExtensionDtype):\n",
      "File \u001b[1;32m~\\anaconda3\\Lib\\site-packages\\pandas\\core\\groupby\\ops.py:877\u001b[0m, in \u001b[0;36mBaseGrouper._aggregate_series_pure_python\u001b[1;34m(self, obj, func)\u001b[0m\n\u001b[0;32m    876\u001b[0m \u001b[38;5;28;01mfor\u001b[39;00m i, group \u001b[38;5;129;01min\u001b[39;00m \u001b[38;5;28menumerate\u001b[39m(splitter):\n\u001b[1;32m--> 877\u001b[0m     res \u001b[38;5;241m=\u001b[39m func(group)\n\u001b[0;32m    878\u001b[0m     res \u001b[38;5;241m=\u001b[39m extract_result(res)\n",
      "File \u001b[1;32m~\\anaconda3\\Lib\\site-packages\\pandas\\core\\groupby\\groupby.py:2380\u001b[0m, in \u001b[0;36mGroupBy.mean.<locals>.<lambda>\u001b[1;34m(x)\u001b[0m\n\u001b[0;32m   2377\u001b[0m \u001b[38;5;28;01melse\u001b[39;00m:\n\u001b[0;32m   2378\u001b[0m     result \u001b[38;5;241m=\u001b[39m \u001b[38;5;28mself\u001b[39m\u001b[38;5;241m.\u001b[39m_cython_agg_general(\n\u001b[0;32m   2379\u001b[0m         \u001b[38;5;124m\"\u001b[39m\u001b[38;5;124mmean\u001b[39m\u001b[38;5;124m\"\u001b[39m,\n\u001b[1;32m-> 2380\u001b[0m         alt\u001b[38;5;241m=\u001b[39m\u001b[38;5;28;01mlambda\u001b[39;00m x: Series(x)\u001b[38;5;241m.\u001b[39mmean(numeric_only\u001b[38;5;241m=\u001b[39mnumeric_only),\n\u001b[0;32m   2381\u001b[0m         numeric_only\u001b[38;5;241m=\u001b[39mnumeric_only,\n\u001b[0;32m   2382\u001b[0m     )\n\u001b[0;32m   2383\u001b[0m     \u001b[38;5;28;01mreturn\u001b[39;00m result\u001b[38;5;241m.\u001b[39m__finalize__(\u001b[38;5;28mself\u001b[39m\u001b[38;5;241m.\u001b[39mobj, method\u001b[38;5;241m=\u001b[39m\u001b[38;5;124m\"\u001b[39m\u001b[38;5;124mgroupby\u001b[39m\u001b[38;5;124m\"\u001b[39m)\n",
      "File \u001b[1;32m~\\anaconda3\\Lib\\site-packages\\pandas\\core\\series.py:6225\u001b[0m, in \u001b[0;36mSeries.mean\u001b[1;34m(self, axis, skipna, numeric_only, **kwargs)\u001b[0m\n\u001b[0;32m   6217\u001b[0m \u001b[38;5;129m@doc\u001b[39m(make_doc(\u001b[38;5;124m\"\u001b[39m\u001b[38;5;124mmean\u001b[39m\u001b[38;5;124m\"\u001b[39m, ndim\u001b[38;5;241m=\u001b[39m\u001b[38;5;241m1\u001b[39m))\n\u001b[0;32m   6218\u001b[0m \u001b[38;5;28;01mdef\u001b[39;00m \u001b[38;5;21mmean\u001b[39m(\n\u001b[0;32m   6219\u001b[0m     \u001b[38;5;28mself\u001b[39m,\n\u001b[1;32m   (...)\u001b[0m\n\u001b[0;32m   6223\u001b[0m     \u001b[38;5;241m*\u001b[39m\u001b[38;5;241m*\u001b[39mkwargs,\n\u001b[0;32m   6224\u001b[0m ):\n\u001b[1;32m-> 6225\u001b[0m     \u001b[38;5;28;01mreturn\u001b[39;00m NDFrame\u001b[38;5;241m.\u001b[39mmean(\u001b[38;5;28mself\u001b[39m, axis, skipna, numeric_only, \u001b[38;5;241m*\u001b[39m\u001b[38;5;241m*\u001b[39mkwargs)\n",
      "File \u001b[1;32m~\\anaconda3\\Lib\\site-packages\\pandas\\core\\generic.py:11992\u001b[0m, in \u001b[0;36mNDFrame.mean\u001b[1;34m(self, axis, skipna, numeric_only, **kwargs)\u001b[0m\n\u001b[0;32m  11985\u001b[0m \u001b[38;5;28;01mdef\u001b[39;00m \u001b[38;5;21mmean\u001b[39m(\n\u001b[0;32m  11986\u001b[0m     \u001b[38;5;28mself\u001b[39m,\n\u001b[0;32m  11987\u001b[0m     axis: Axis \u001b[38;5;241m|\u001b[39m \u001b[38;5;28;01mNone\u001b[39;00m \u001b[38;5;241m=\u001b[39m \u001b[38;5;241m0\u001b[39m,\n\u001b[1;32m   (...)\u001b[0m\n\u001b[0;32m  11990\u001b[0m     \u001b[38;5;241m*\u001b[39m\u001b[38;5;241m*\u001b[39mkwargs,\n\u001b[0;32m  11991\u001b[0m ) \u001b[38;5;241m-\u001b[39m\u001b[38;5;241m>\u001b[39m Series \u001b[38;5;241m|\u001b[39m \u001b[38;5;28mfloat\u001b[39m:\n\u001b[1;32m> 11992\u001b[0m     \u001b[38;5;28;01mreturn\u001b[39;00m \u001b[38;5;28mself\u001b[39m\u001b[38;5;241m.\u001b[39m_stat_function(\n\u001b[0;32m  11993\u001b[0m         \u001b[38;5;124m\"\u001b[39m\u001b[38;5;124mmean\u001b[39m\u001b[38;5;124m\"\u001b[39m, nanops\u001b[38;5;241m.\u001b[39mnanmean, axis, skipna, numeric_only, \u001b[38;5;241m*\u001b[39m\u001b[38;5;241m*\u001b[39mkwargs\n\u001b[0;32m  11994\u001b[0m     )\n",
      "File \u001b[1;32m~\\anaconda3\\Lib\\site-packages\\pandas\\core\\generic.py:11949\u001b[0m, in \u001b[0;36mNDFrame._stat_function\u001b[1;34m(self, name, func, axis, skipna, numeric_only, **kwargs)\u001b[0m\n\u001b[0;32m  11947\u001b[0m validate_bool_kwarg(skipna, \u001b[38;5;124m\"\u001b[39m\u001b[38;5;124mskipna\u001b[39m\u001b[38;5;124m\"\u001b[39m, none_allowed\u001b[38;5;241m=\u001b[39m\u001b[38;5;28;01mFalse\u001b[39;00m)\n\u001b[1;32m> 11949\u001b[0m \u001b[38;5;28;01mreturn\u001b[39;00m \u001b[38;5;28mself\u001b[39m\u001b[38;5;241m.\u001b[39m_reduce(\n\u001b[0;32m  11950\u001b[0m     func, name\u001b[38;5;241m=\u001b[39mname, axis\u001b[38;5;241m=\u001b[39maxis, skipna\u001b[38;5;241m=\u001b[39mskipna, numeric_only\u001b[38;5;241m=\u001b[39mnumeric_only\n\u001b[0;32m  11951\u001b[0m )\n",
      "File \u001b[1;32m~\\anaconda3\\Lib\\site-packages\\pandas\\core\\series.py:6133\u001b[0m, in \u001b[0;36mSeries._reduce\u001b[1;34m(self, op, name, axis, skipna, numeric_only, filter_type, **kwds)\u001b[0m\n\u001b[0;32m   6129\u001b[0m     \u001b[38;5;28;01mraise\u001b[39;00m \u001b[38;5;167;01mTypeError\u001b[39;00m(\n\u001b[0;32m   6130\u001b[0m         \u001b[38;5;124mf\u001b[39m\u001b[38;5;124m\"\u001b[39m\u001b[38;5;124mSeries.\u001b[39m\u001b[38;5;132;01m{\u001b[39;00mname\u001b[38;5;132;01m}\u001b[39;00m\u001b[38;5;124m does not allow \u001b[39m\u001b[38;5;132;01m{\u001b[39;00mkwd_name\u001b[38;5;132;01m}\u001b[39;00m\u001b[38;5;124m=\u001b[39m\u001b[38;5;132;01m{\u001b[39;00mnumeric_only\u001b[38;5;132;01m}\u001b[39;00m\u001b[38;5;124m \u001b[39m\u001b[38;5;124m\"\u001b[39m\n\u001b[0;32m   6131\u001b[0m         \u001b[38;5;124m\"\u001b[39m\u001b[38;5;124mwith non-numeric dtypes.\u001b[39m\u001b[38;5;124m\"\u001b[39m\n\u001b[0;32m   6132\u001b[0m     )\n\u001b[1;32m-> 6133\u001b[0m \u001b[38;5;28;01mreturn\u001b[39;00m op(delegate, skipna\u001b[38;5;241m=\u001b[39mskipna, \u001b[38;5;241m*\u001b[39m\u001b[38;5;241m*\u001b[39mkwds)\n",
      "File \u001b[1;32m~\\anaconda3\\Lib\\site-packages\\pandas\\core\\nanops.py:147\u001b[0m, in \u001b[0;36mbottleneck_switch.__call__.<locals>.f\u001b[1;34m(values, axis, skipna, **kwds)\u001b[0m\n\u001b[0;32m    146\u001b[0m \u001b[38;5;28;01melse\u001b[39;00m:\n\u001b[1;32m--> 147\u001b[0m     result \u001b[38;5;241m=\u001b[39m alt(values, axis\u001b[38;5;241m=\u001b[39maxis, skipna\u001b[38;5;241m=\u001b[39mskipna, \u001b[38;5;241m*\u001b[39m\u001b[38;5;241m*\u001b[39mkwds)\n\u001b[0;32m    149\u001b[0m \u001b[38;5;28;01mreturn\u001b[39;00m result\n",
      "File \u001b[1;32m~\\anaconda3\\Lib\\site-packages\\pandas\\core\\nanops.py:404\u001b[0m, in \u001b[0;36m_datetimelike_compat.<locals>.new_func\u001b[1;34m(values, axis, skipna, mask, **kwargs)\u001b[0m\n\u001b[0;32m    402\u001b[0m     mask \u001b[38;5;241m=\u001b[39m isna(values)\n\u001b[1;32m--> 404\u001b[0m result \u001b[38;5;241m=\u001b[39m func(values, axis\u001b[38;5;241m=\u001b[39maxis, skipna\u001b[38;5;241m=\u001b[39mskipna, mask\u001b[38;5;241m=\u001b[39mmask, \u001b[38;5;241m*\u001b[39m\u001b[38;5;241m*\u001b[39mkwargs)\n\u001b[0;32m    406\u001b[0m \u001b[38;5;28;01mif\u001b[39;00m datetimelike:\n",
      "File \u001b[1;32m~\\anaconda3\\Lib\\site-packages\\pandas\\core\\nanops.py:720\u001b[0m, in \u001b[0;36mnanmean\u001b[1;34m(values, axis, skipna, mask)\u001b[0m\n\u001b[0;32m    719\u001b[0m the_sum \u001b[38;5;241m=\u001b[39m values\u001b[38;5;241m.\u001b[39msum(axis, dtype\u001b[38;5;241m=\u001b[39mdtype_sum)\n\u001b[1;32m--> 720\u001b[0m the_sum \u001b[38;5;241m=\u001b[39m _ensure_numeric(the_sum)\n\u001b[0;32m    722\u001b[0m \u001b[38;5;28;01mif\u001b[39;00m axis \u001b[38;5;129;01mis\u001b[39;00m \u001b[38;5;129;01mnot\u001b[39;00m \u001b[38;5;28;01mNone\u001b[39;00m \u001b[38;5;129;01mand\u001b[39;00m \u001b[38;5;28mgetattr\u001b[39m(the_sum, \u001b[38;5;124m\"\u001b[39m\u001b[38;5;124mndim\u001b[39m\u001b[38;5;124m\"\u001b[39m, \u001b[38;5;28;01mFalse\u001b[39;00m):\n",
      "File \u001b[1;32m~\\anaconda3\\Lib\\site-packages\\pandas\\core\\nanops.py:1693\u001b[0m, in \u001b[0;36m_ensure_numeric\u001b[1;34m(x)\u001b[0m\n\u001b[0;32m   1691\u001b[0m \u001b[38;5;28;01mif\u001b[39;00m \u001b[38;5;28misinstance\u001b[39m(x, \u001b[38;5;28mstr\u001b[39m):\n\u001b[0;32m   1692\u001b[0m     \u001b[38;5;66;03m# GH#44008, GH#36703 avoid casting e.g. strings to numeric\u001b[39;00m\n\u001b[1;32m-> 1693\u001b[0m     \u001b[38;5;28;01mraise\u001b[39;00m \u001b[38;5;167;01mTypeError\u001b[39;00m(\u001b[38;5;124mf\u001b[39m\u001b[38;5;124m\"\u001b[39m\u001b[38;5;124mCould not convert string \u001b[39m\u001b[38;5;124m'\u001b[39m\u001b[38;5;132;01m{\u001b[39;00mx\u001b[38;5;132;01m}\u001b[39;00m\u001b[38;5;124m'\u001b[39m\u001b[38;5;124m to numeric\u001b[39m\u001b[38;5;124m\"\u001b[39m)\n\u001b[0;32m   1694\u001b[0m \u001b[38;5;28;01mtry\u001b[39;00m:\n",
      "\u001b[1;31mTypeError\u001b[0m: Could not convert string '106k-125k41k-65k41k-65k0-40k86k-105k41k-65k66k-85k0-40k0-40k41k-65k41k-65k0-40k0-40k41k-65k106k-125k0-40k0-40k0-40k0-40k66k-85k106k-125k86k-105k66k-85k0-40k41k-65k86k-105k0-40k41k-65k86k-105k66k-85k66k-85k41k-65k0-40k66k-85k0-40k0-40k66k-85k0-40k41k-65k41k-65k41k-65k0-40k0-40k106k-125k106k-125k41k-65k0-40k125k-150k41k-65k66k-85k66k-85k0-40k66k-85k41k-65k41k-65k66k-85k86k-105k0-40k41k-65k41k-65k86k-105k41k-65k66k-85k0-40k41k-65k106k-125k41k-65k0-40k0-40k66k-85k41k-65k0-40k66k-85k66k-85k41k-65k86k-105k66k-85k41k-65k106k-125k0-40k0-40k66k-85k41k-65k41k-65k66k-85k0-40k0-40k66k-85k66k-85k66k-85k0-40k0-40k106k-125k41k-65k41k-65k41k-65k41k-65k41k-65k0-40k41k-65k106k-125k41k-65k0-40k41k-65k66k-85k86k-105k66k-85k66k-85k0-40k150k-225k66k-85k66k-85k66k-85k86k-105k0-40k0-40k66k-85k41k-65k0-40k0-40k0-40k0-40k0-40k0-40k150k-225k66k-85k66k-85k106k-125k0-40k0-40k0-40k86k-105k41k-65k41k-65k0-40k0-40k125k-150k0-40k66k-85k0-40k0-40k0-40k150k-225k66k-85k41k-65k0-40k0-40k0-40k66k-85k66k-85k0-40k66k-85k0-40k41k-65k125k-150k0-40k66k-85k66k-85k41k-65k86k-105k0-40k0-40k0-40k0-40k0-40k41k-65k41k-65k66k-85k41k-65k86k-105k0-40k0-40k41k-65k106k-125k66k-85k0-40k0-40k0-40k41k-65k0-40k86k-105k66k-85k41k-65k41k-65k0-40k0-40k0-40k66k-85k41k-65k86k-105k106k-125k66k-85k41k-65k0-40k66k-85k66k-85k86k-105k41k-65k0-40k0-40k0-40k0-40k41k-65k106k-125k41k-65k66k-85k41k-65k66k-85k86k-105k0-40k106k-125k66k-85k0-40k0-40k86k-105k66k-85k66k-85k0-40k41k-65k0-40k66k-85k0-40k41k-65k0-40k0-40k86k-105k0-40k0-40k0-40k0-40k0-40k41k-65k0-40k66k-85k41k-65k0-40k66k-85k0-40k0-40k66k-85k0-40k0-40k86k-105k66k-85k0-40k86k-105k86k-105k41k-65k41k-65k106k-125k86k-105k0-40k41k-65k41k-65k0-40k41k-65k125k-150k0-40k41k-65k41k-65k86k-105k106k-125k66k-85k0-40k86k-105k41k-65k66k-85k0-40k0-40k0-40k41k-65k0-40k150k-225k41k-65k0-40k41k-65k86k-105k0-40k0-40k0-40k41k-65k86k-105k66k-85k66k-85k66k-85k106k-125k41k-65k41k-65k0-40k41k-65k66k-85k86k-105k66k-85k0-40k0-40k86k-105k0-40k41k-65k106k-125k41k-65k41k-65k0-40k41k-65k0-40k0-40k0-40k41k-65k41k-65k0-40k66k-85k41k-65k41k-65k41k-65k66k-85k41k-65k0-40k0-40k0-40k41k-65k66k-85k0-40k41k-65k106k-125k0-40k41k-65k41k-65k41k-65k0-40k0-40k0-40k125k-150k86k-105k86k-105k66k-85k66k-85k66k-85k86k-105k66k-85k0-40k0-40k41k-65k0-40k0-40k86k-105k41k-65k0-40k0-40k66k-85k0-40k66k-85k0-40k86k-105k0-40k66k-85k41k-65k0-40k66k-85k0-40k0-40k41k-65k0-40k125k-150k41k-65k66k-85k41k-65k66k-85k0-40k41k-65k0-40k0-40k86k-105k41k-65k86k-105k0-40k106k-125k0-40k0-40k41k-65k106k-125k125k-150k41k-65k' to numeric",
      "\nThe above exception was the direct cause of the following exception:\n",
      "\u001b[1;31mTypeError\u001b[0m                                 Traceback (most recent call last)",
      "Cell \u001b[1;32mIn[13], line 2\u001b[0m\n\u001b[0;32m      1\u001b[0m \u001b[38;5;66;03m# Get the salary of each by their role\u001b[39;00m\n\u001b[1;32m----> 2\u001b[0m role_salary \u001b[38;5;241m=\u001b[39m df\u001b[38;5;241m.\u001b[39mgroupby(\u001b[38;5;124m\"\u001b[39m\u001b[38;5;124mQ1 - Which Title Best Fits your Current Role?\u001b[39m\u001b[38;5;124m\"\u001b[39m)[\u001b[38;5;124m'\u001b[39m\u001b[38;5;124mQ3 - Current Yearly Salary (in USD)\u001b[39m\u001b[38;5;124m'\u001b[39m]\u001b[38;5;241m.\u001b[39magg([\u001b[38;5;124m'\u001b[39m\u001b[38;5;124mmean\u001b[39m\u001b[38;5;124m'\u001b[39m, \u001b[38;5;124m'\u001b[39m\u001b[38;5;124mmedian\u001b[39m\u001b[38;5;124m'\u001b[39m, \u001b[38;5;124m'\u001b[39m\u001b[38;5;124mcount\u001b[39m\u001b[38;5;124m'\u001b[39m])\n\u001b[0;32m      3\u001b[0m role_salary\n",
      "File \u001b[1;32m~\\anaconda3\\Lib\\site-packages\\pandas\\core\\groupby\\generic.py:255\u001b[0m, in \u001b[0;36mSeriesGroupBy.aggregate\u001b[1;34m(self, func, engine, engine_kwargs, *args, **kwargs)\u001b[0m\n\u001b[0;32m    253\u001b[0m kwargs[\u001b[38;5;124m\"\u001b[39m\u001b[38;5;124mengine\u001b[39m\u001b[38;5;124m\"\u001b[39m] \u001b[38;5;241m=\u001b[39m engine\n\u001b[0;32m    254\u001b[0m kwargs[\u001b[38;5;124m\"\u001b[39m\u001b[38;5;124mengine_kwargs\u001b[39m\u001b[38;5;124m\"\u001b[39m] \u001b[38;5;241m=\u001b[39m engine_kwargs\n\u001b[1;32m--> 255\u001b[0m ret \u001b[38;5;241m=\u001b[39m \u001b[38;5;28mself\u001b[39m\u001b[38;5;241m.\u001b[39m_aggregate_multiple_funcs(func, \u001b[38;5;241m*\u001b[39margs, \u001b[38;5;241m*\u001b[39m\u001b[38;5;241m*\u001b[39mkwargs)\n\u001b[0;32m    256\u001b[0m \u001b[38;5;28;01mif\u001b[39;00m relabeling:\n\u001b[0;32m    257\u001b[0m     \u001b[38;5;66;03m# columns is not narrowed by mypy from relabeling flag\u001b[39;00m\n\u001b[0;32m    258\u001b[0m     \u001b[38;5;28;01massert\u001b[39;00m columns \u001b[38;5;129;01mis\u001b[39;00m \u001b[38;5;129;01mnot\u001b[39;00m \u001b[38;5;28;01mNone\u001b[39;00m  \u001b[38;5;66;03m# for mypy\u001b[39;00m\n",
      "File \u001b[1;32m~\\anaconda3\\Lib\\site-packages\\pandas\\core\\groupby\\generic.py:360\u001b[0m, in \u001b[0;36mSeriesGroupBy._aggregate_multiple_funcs\u001b[1;34m(self, arg, *args, **kwargs)\u001b[0m\n\u001b[0;32m    358\u001b[0m     \u001b[38;5;28;01mfor\u001b[39;00m idx, (name, func) \u001b[38;5;129;01min\u001b[39;00m \u001b[38;5;28menumerate\u001b[39m(arg):\n\u001b[0;32m    359\u001b[0m         key \u001b[38;5;241m=\u001b[39m base\u001b[38;5;241m.\u001b[39mOutputKey(label\u001b[38;5;241m=\u001b[39mname, position\u001b[38;5;241m=\u001b[39midx)\n\u001b[1;32m--> 360\u001b[0m         results[key] \u001b[38;5;241m=\u001b[39m \u001b[38;5;28mself\u001b[39m\u001b[38;5;241m.\u001b[39maggregate(func, \u001b[38;5;241m*\u001b[39margs, \u001b[38;5;241m*\u001b[39m\u001b[38;5;241m*\u001b[39mkwargs)\n\u001b[0;32m    362\u001b[0m \u001b[38;5;28;01mif\u001b[39;00m \u001b[38;5;28many\u001b[39m(\u001b[38;5;28misinstance\u001b[39m(x, DataFrame) \u001b[38;5;28;01mfor\u001b[39;00m x \u001b[38;5;129;01min\u001b[39;00m results\u001b[38;5;241m.\u001b[39mvalues()):\n\u001b[0;32m    363\u001b[0m     \u001b[38;5;28;01mfrom\u001b[39;00m \u001b[38;5;21;01mpandas\u001b[39;00m \u001b[38;5;28;01mimport\u001b[39;00m concat\n",
      "File \u001b[1;32m~\\anaconda3\\Lib\\site-packages\\pandas\\core\\groupby\\generic.py:247\u001b[0m, in \u001b[0;36mSeriesGroupBy.aggregate\u001b[1;34m(self, func, engine, engine_kwargs, *args, **kwargs)\u001b[0m\n\u001b[0;32m    245\u001b[0m     \u001b[38;5;28;01mif\u001b[39;00m engine_kwargs \u001b[38;5;129;01mis\u001b[39;00m \u001b[38;5;129;01mnot\u001b[39;00m \u001b[38;5;28;01mNone\u001b[39;00m:\n\u001b[0;32m    246\u001b[0m         kwargs[\u001b[38;5;124m\"\u001b[39m\u001b[38;5;124mengine_kwargs\u001b[39m\u001b[38;5;124m\"\u001b[39m] \u001b[38;5;241m=\u001b[39m engine_kwargs\n\u001b[1;32m--> 247\u001b[0m     \u001b[38;5;28;01mreturn\u001b[39;00m \u001b[38;5;28mgetattr\u001b[39m(\u001b[38;5;28mself\u001b[39m, func)(\u001b[38;5;241m*\u001b[39margs, \u001b[38;5;241m*\u001b[39m\u001b[38;5;241m*\u001b[39mkwargs)\n\u001b[0;32m    249\u001b[0m \u001b[38;5;28;01melif\u001b[39;00m \u001b[38;5;28misinstance\u001b[39m(func, abc\u001b[38;5;241m.\u001b[39mIterable):\n\u001b[0;32m    250\u001b[0m     \u001b[38;5;66;03m# Catch instances of lists / tuples\u001b[39;00m\n\u001b[0;32m    251\u001b[0m     \u001b[38;5;66;03m# but not the class list / tuple itself.\u001b[39;00m\n\u001b[0;32m    252\u001b[0m     func \u001b[38;5;241m=\u001b[39m maybe_mangle_lambdas(func)\n",
      "File \u001b[1;32m~\\anaconda3\\Lib\\site-packages\\pandas\\core\\groupby\\groupby.py:2378\u001b[0m, in \u001b[0;36mGroupBy.mean\u001b[1;34m(self, numeric_only, engine, engine_kwargs)\u001b[0m\n\u001b[0;32m   2371\u001b[0m     \u001b[38;5;28;01mreturn\u001b[39;00m \u001b[38;5;28mself\u001b[39m\u001b[38;5;241m.\u001b[39m_numba_agg_general(\n\u001b[0;32m   2372\u001b[0m         grouped_mean,\n\u001b[0;32m   2373\u001b[0m         executor\u001b[38;5;241m.\u001b[39mfloat_dtype_mapping,\n\u001b[0;32m   2374\u001b[0m         engine_kwargs,\n\u001b[0;32m   2375\u001b[0m         min_periods\u001b[38;5;241m=\u001b[39m\u001b[38;5;241m0\u001b[39m,\n\u001b[0;32m   2376\u001b[0m     )\n\u001b[0;32m   2377\u001b[0m \u001b[38;5;28;01melse\u001b[39;00m:\n\u001b[1;32m-> 2378\u001b[0m     result \u001b[38;5;241m=\u001b[39m \u001b[38;5;28mself\u001b[39m\u001b[38;5;241m.\u001b[39m_cython_agg_general(\n\u001b[0;32m   2379\u001b[0m         \u001b[38;5;124m\"\u001b[39m\u001b[38;5;124mmean\u001b[39m\u001b[38;5;124m\"\u001b[39m,\n\u001b[0;32m   2380\u001b[0m         alt\u001b[38;5;241m=\u001b[39m\u001b[38;5;28;01mlambda\u001b[39;00m x: Series(x)\u001b[38;5;241m.\u001b[39mmean(numeric_only\u001b[38;5;241m=\u001b[39mnumeric_only),\n\u001b[0;32m   2381\u001b[0m         numeric_only\u001b[38;5;241m=\u001b[39mnumeric_only,\n\u001b[0;32m   2382\u001b[0m     )\n\u001b[0;32m   2383\u001b[0m     \u001b[38;5;28;01mreturn\u001b[39;00m result\u001b[38;5;241m.\u001b[39m__finalize__(\u001b[38;5;28mself\u001b[39m\u001b[38;5;241m.\u001b[39mobj, method\u001b[38;5;241m=\u001b[39m\u001b[38;5;124m\"\u001b[39m\u001b[38;5;124mgroupby\u001b[39m\u001b[38;5;124m\"\u001b[39m)\n",
      "File \u001b[1;32m~\\anaconda3\\Lib\\site-packages\\pandas\\core\\groupby\\groupby.py:1929\u001b[0m, in \u001b[0;36mGroupBy._cython_agg_general\u001b[1;34m(self, how, alt, numeric_only, min_count, **kwargs)\u001b[0m\n\u001b[0;32m   1926\u001b[0m     result \u001b[38;5;241m=\u001b[39m \u001b[38;5;28mself\u001b[39m\u001b[38;5;241m.\u001b[39m_agg_py_fallback(how, values, ndim\u001b[38;5;241m=\u001b[39mdata\u001b[38;5;241m.\u001b[39mndim, alt\u001b[38;5;241m=\u001b[39malt)\n\u001b[0;32m   1927\u001b[0m     \u001b[38;5;28;01mreturn\u001b[39;00m result\n\u001b[1;32m-> 1929\u001b[0m new_mgr \u001b[38;5;241m=\u001b[39m data\u001b[38;5;241m.\u001b[39mgrouped_reduce(array_func)\n\u001b[0;32m   1930\u001b[0m res \u001b[38;5;241m=\u001b[39m \u001b[38;5;28mself\u001b[39m\u001b[38;5;241m.\u001b[39m_wrap_agged_manager(new_mgr)\n\u001b[0;32m   1931\u001b[0m out \u001b[38;5;241m=\u001b[39m \u001b[38;5;28mself\u001b[39m\u001b[38;5;241m.\u001b[39m_wrap_aggregated_output(res)\n",
      "File \u001b[1;32m~\\anaconda3\\Lib\\site-packages\\pandas\\core\\internals\\base.py:336\u001b[0m, in \u001b[0;36mSingleDataManager.grouped_reduce\u001b[1;34m(self, func)\u001b[0m\n\u001b[0;32m    334\u001b[0m \u001b[38;5;28;01mdef\u001b[39;00m \u001b[38;5;21mgrouped_reduce\u001b[39m(\u001b[38;5;28mself\u001b[39m, func):\n\u001b[0;32m    335\u001b[0m     arr \u001b[38;5;241m=\u001b[39m \u001b[38;5;28mself\u001b[39m\u001b[38;5;241m.\u001b[39marray\n\u001b[1;32m--> 336\u001b[0m     res \u001b[38;5;241m=\u001b[39m func(arr)\n\u001b[0;32m    337\u001b[0m     index \u001b[38;5;241m=\u001b[39m default_index(\u001b[38;5;28mlen\u001b[39m(res))\n\u001b[0;32m    339\u001b[0m     mgr \u001b[38;5;241m=\u001b[39m \u001b[38;5;28mtype\u001b[39m(\u001b[38;5;28mself\u001b[39m)\u001b[38;5;241m.\u001b[39mfrom_array(res, index)\n",
      "File \u001b[1;32m~\\anaconda3\\Lib\\site-packages\\pandas\\core\\groupby\\groupby.py:1926\u001b[0m, in \u001b[0;36mGroupBy._cython_agg_general.<locals>.array_func\u001b[1;34m(values)\u001b[0m\n\u001b[0;32m   1923\u001b[0m \u001b[38;5;28;01melse\u001b[39;00m:\n\u001b[0;32m   1924\u001b[0m     \u001b[38;5;28;01mreturn\u001b[39;00m result\n\u001b[1;32m-> 1926\u001b[0m result \u001b[38;5;241m=\u001b[39m \u001b[38;5;28mself\u001b[39m\u001b[38;5;241m.\u001b[39m_agg_py_fallback(how, values, ndim\u001b[38;5;241m=\u001b[39mdata\u001b[38;5;241m.\u001b[39mndim, alt\u001b[38;5;241m=\u001b[39malt)\n\u001b[0;32m   1927\u001b[0m \u001b[38;5;28;01mreturn\u001b[39;00m result\n",
      "File \u001b[1;32m~\\anaconda3\\Lib\\site-packages\\pandas\\core\\groupby\\groupby.py:1878\u001b[0m, in \u001b[0;36mGroupBy._agg_py_fallback\u001b[1;34m(self, how, values, ndim, alt)\u001b[0m\n\u001b[0;32m   1876\u001b[0m     msg \u001b[38;5;241m=\u001b[39m \u001b[38;5;124mf\u001b[39m\u001b[38;5;124m\"\u001b[39m\u001b[38;5;124magg function failed [how->\u001b[39m\u001b[38;5;132;01m{\u001b[39;00mhow\u001b[38;5;132;01m}\u001b[39;00m\u001b[38;5;124m,dtype->\u001b[39m\u001b[38;5;132;01m{\u001b[39;00mser\u001b[38;5;241m.\u001b[39mdtype\u001b[38;5;132;01m}\u001b[39;00m\u001b[38;5;124m]\u001b[39m\u001b[38;5;124m\"\u001b[39m\n\u001b[0;32m   1877\u001b[0m     \u001b[38;5;66;03m# preserve the kind of exception that raised\u001b[39;00m\n\u001b[1;32m-> 1878\u001b[0m     \u001b[38;5;28;01mraise\u001b[39;00m \u001b[38;5;28mtype\u001b[39m(err)(msg) \u001b[38;5;28;01mfrom\u001b[39;00m \u001b[38;5;21;01merr\u001b[39;00m\n\u001b[0;32m   1880\u001b[0m \u001b[38;5;28;01mif\u001b[39;00m ser\u001b[38;5;241m.\u001b[39mdtype \u001b[38;5;241m==\u001b[39m \u001b[38;5;28mobject\u001b[39m:\n\u001b[0;32m   1881\u001b[0m     res_values \u001b[38;5;241m=\u001b[39m res_values\u001b[38;5;241m.\u001b[39mastype(\u001b[38;5;28mobject\u001b[39m, copy\u001b[38;5;241m=\u001b[39m\u001b[38;5;28;01mFalse\u001b[39;00m)\n",
      "\u001b[1;31mTypeError\u001b[0m: agg function failed [how->mean,dtype->object]"
     ]
    }
   ],
   "source": [
    "# Get the salary of each by their role\n",
    "role_salary = df.groupby(\"Q1 - Which Title Best Fits your Current Role?\")['Q3 - Current Yearly Salary (in USD)'].agg(['mean', 'median', 'count'])\n",
    "role_salary"
   ]
  },
  {
   "cell_type": "code",
   "execution_count": 14,
   "id": "9faa169d-5af7-4245-aded-f390e7c86025",
   "metadata": {},
   "outputs": [],
   "source": [
    "# From the error above we first convert the column from a string to float using .str.replace() function by removing the k\n",
    "salary_series = df[\"Q3 - Current Yearly Salary (in USD)\"]\n",
    "salary_series = salary_series.str.replace('k','', regex=False)"
   ]
  },
  {
   "cell_type": "code",
   "execution_count": 15,
   "id": "2d9f4b67-bf76-4b3d-8bb9-bd467fb999c7",
   "metadata": {},
   "outputs": [
    {
     "data": {
      "text/plain": [
       "0    106-125\n",
       "1      41-65\n",
       "2       0-40\n",
       "3    150-225\n",
       "4      41-65\n",
       "Name: Q3 - Current Yearly Salary (in USD), dtype: object"
      ]
     },
     "execution_count": 15,
     "metadata": {},
     "output_type": "execute_result"
    }
   ],
   "source": [
    "salary_series.head()"
   ]
  },
  {
   "cell_type": "code",
   "execution_count": 16,
   "id": "a134181e-1402-4d78-917e-7dd8fc1c88f8",
   "metadata": {},
   "outputs": [],
   "source": [
    "# Split the ranges into two numbers\n",
    "split_ranges = salary_series.str.split('-', expand=True)"
   ]
  },
  {
   "cell_type": "code",
   "execution_count": 17,
   "id": "70be4e5b-dc46-497b-bd4d-54e10eb006c7",
   "metadata": {},
   "outputs": [],
   "source": [
    "# Split the ranges into two parts\n",
    "split_ranges = salary_series.str.split('-', expand=True)"
   ]
  },
  {
   "cell_type": "code",
   "execution_count": 18,
   "id": "5fce8674-41da-4198-840b-503d1cbfecf1",
   "metadata": {},
   "outputs": [],
   "source": [
    "# Convert both parts to numeric, turning bad values into NaN\n",
    "low = pd.to_numeric(split_ranges[0], errors='coerce')\n",
    "high = pd.to_numeric(split_ranges[1], errors='coerce')"
   ]
  },
  {
   "cell_type": "code",
   "execution_count": 19,
   "id": "fb414a66-a362-4141-b6c6-da853e45b938",
   "metadata": {},
   "outputs": [],
   "source": [
    "# Compute average safely — works only where both numbers exist\n",
    "salary_avg = (low + high) / 2"
   ]
  },
  {
   "cell_type": "code",
   "execution_count": 20,
   "id": "aa9f2cfb-eee5-4746-8c1d-882ec45ba564",
   "metadata": {},
   "outputs": [],
   "source": [
    "#Create a new column in our dataset called Avg_salary\n",
    "df['Avg_salary'] =salary_avg"
   ]
  },
  {
   "cell_type": "code",
   "execution_count": 21,
   "id": "6d499e63-a2ff-43c4-bdd8-b185c3c9acec",
   "metadata": {},
   "outputs": [
    {
     "data": {
      "text/plain": [
       "0      115.5\n",
       "1       53.0\n",
       "2       20.0\n",
       "3      187.5\n",
       "4       53.0\n",
       "       ...  \n",
       "625    137.5\n",
       "626     20.0\n",
       "627     20.0\n",
       "628     20.0\n",
       "629     53.0\n",
       "Length: 630, dtype: float64"
      ]
     },
     "execution_count": 21,
     "metadata": {},
     "output_type": "execute_result"
    }
   ],
   "source": [
    "salary_avg"
   ]
  },
  {
   "cell_type": "code",
   "execution_count": 22,
   "id": "61b0bc6b-56b7-4da9-af82-c205e238eae5",
   "metadata": {},
   "outputs": [
    {
     "data": {
      "text/html": [
       "<div>\n",
       "<style scoped>\n",
       "    .dataframe tbody tr th:only-of-type {\n",
       "        vertical-align: middle;\n",
       "    }\n",
       "\n",
       "    .dataframe tbody tr th {\n",
       "        vertical-align: top;\n",
       "    }\n",
       "\n",
       "    .dataframe thead th {\n",
       "        text-align: right;\n",
       "    }\n",
       "</style>\n",
       "<table border=\"1\" class=\"dataframe\">\n",
       "  <thead>\n",
       "    <tr style=\"text-align: right;\">\n",
       "      <th></th>\n",
       "      <th>Unique ID</th>\n",
       "      <th>Email</th>\n",
       "      <th>Date Taken (America/New_York)</th>\n",
       "      <th>Time Taken (America/New_York)</th>\n",
       "      <th>Time Spent</th>\n",
       "      <th>Q1 - Which Title Best Fits your Current Role?</th>\n",
       "      <th>Q2 - Did you switch careers into Data?</th>\n",
       "      <th>Q3 - Current Yearly Salary (in USD)</th>\n",
       "      <th>Q4 - What Industry do you work in?</th>\n",
       "      <th>Q5 - Favorite Programming Language</th>\n",
       "      <th>...</th>\n",
       "      <th>Q6 - How Happy are you in your Current Position with the following? (Upward Mobility)</th>\n",
       "      <th>Q6 - How Happy are you in your Current Position with the following? (Learning New Things)</th>\n",
       "      <th>Q7 - How difficult was it for you to break into Data?</th>\n",
       "      <th>Q8 - If you were to look for a new job today, what would be the most important thing to you?</th>\n",
       "      <th>Q9 - Male/Female?</th>\n",
       "      <th>Q10 - Current Age</th>\n",
       "      <th>Q11 - Which Country do you live in?</th>\n",
       "      <th>Q12 - Highest Level of Education</th>\n",
       "      <th>Q13 - Ethnicity</th>\n",
       "      <th>Avg_salary</th>\n",
       "    </tr>\n",
       "  </thead>\n",
       "  <tbody>\n",
       "    <tr>\n",
       "      <th>0</th>\n",
       "      <td>62a33b3db4da29969c62df3d</td>\n",
       "      <td>anonymous</td>\n",
       "      <td>6/10/2022</td>\n",
       "      <td>8:38</td>\n",
       "      <td>0:00:44</td>\n",
       "      <td>Data Analyst</td>\n",
       "      <td>Yes</td>\n",
       "      <td>106k-125k</td>\n",
       "      <td>Healthcare</td>\n",
       "      <td>Python</td>\n",
       "      <td>...</td>\n",
       "      <td>5.0</td>\n",
       "      <td>7.0</td>\n",
       "      <td>Very Difficult</td>\n",
       "      <td>Remote Work</td>\n",
       "      <td>Male</td>\n",
       "      <td>26</td>\n",
       "      <td>United States</td>\n",
       "      <td>NaN</td>\n",
       "      <td>White or Caucasian</td>\n",
       "      <td>115.5</td>\n",
       "    </tr>\n",
       "    <tr>\n",
       "      <th>1</th>\n",
       "      <td>62a33ba1bae91e4b8b82e35c</td>\n",
       "      <td>anonymous</td>\n",
       "      <td>6/10/2022</td>\n",
       "      <td>8:40</td>\n",
       "      <td>0:01:30</td>\n",
       "      <td>Data Analyst</td>\n",
       "      <td>No</td>\n",
       "      <td>41k-65k</td>\n",
       "      <td>Finance</td>\n",
       "      <td>R</td>\n",
       "      <td>...</td>\n",
       "      <td>1.0</td>\n",
       "      <td>3.0</td>\n",
       "      <td>Very Difficult</td>\n",
       "      <td>Remote Work</td>\n",
       "      <td>Male</td>\n",
       "      <td>36</td>\n",
       "      <td>Canada</td>\n",
       "      <td>NaN</td>\n",
       "      <td>Asian or Asian American</td>\n",
       "      <td>53.0</td>\n",
       "    </tr>\n",
       "  </tbody>\n",
       "</table>\n",
       "<p>2 rows × 24 columns</p>\n",
       "</div>"
      ],
      "text/plain": [
       "                  Unique ID      Email Date Taken (America/New_York)  \\\n",
       "0  62a33b3db4da29969c62df3d  anonymous                     6/10/2022   \n",
       "1  62a33ba1bae91e4b8b82e35c  anonymous                     6/10/2022   \n",
       "\n",
       "  Time Taken (America/New_York) Time Spent  \\\n",
       "0                          8:38    0:00:44   \n",
       "1                          8:40    0:01:30   \n",
       "\n",
       "  Q1 - Which Title Best Fits your Current Role?  \\\n",
       "0                                  Data Analyst   \n",
       "1                                  Data Analyst   \n",
       "\n",
       "  Q2 - Did you switch careers into Data? Q3 - Current Yearly Salary (in USD)  \\\n",
       "0                                    Yes                           106k-125k   \n",
       "1                                     No                             41k-65k   \n",
       "\n",
       "  Q4 - What Industry do you work in? Q5 - Favorite Programming Language  ...  \\\n",
       "0                         Healthcare                             Python  ...   \n",
       "1                            Finance                                  R  ...   \n",
       "\n",
       "   Q6 - How Happy are you in your Current Position with the following? (Upward Mobility)  \\\n",
       "0                                                5.0                                       \n",
       "1                                                1.0                                       \n",
       "\n",
       "   Q6 - How Happy are you in your Current Position with the following? (Learning New Things)  \\\n",
       "0                                                7.0                                           \n",
       "1                                                3.0                                           \n",
       "\n",
       "   Q7 - How difficult was it for you to break into Data?  \\\n",
       "0                                     Very Difficult       \n",
       "1                                     Very Difficult       \n",
       "\n",
       "   Q8 - If you were to look for a new job today, what would be the most important thing to you?  \\\n",
       "0                                        Remote Work                                              \n",
       "1                                        Remote Work                                              \n",
       "\n",
       "   Q9 - Male/Female?  Q10 - Current Age Q11 - Which Country do you live in?  \\\n",
       "0               Male                 26                       United States   \n",
       "1               Male                 36                              Canada   \n",
       "\n",
       "  Q12 - Highest Level of Education          Q13 - Ethnicity  Avg_salary  \n",
       "0                              NaN       White or Caucasian       115.5  \n",
       "1                              NaN  Asian or Asian American        53.0  \n",
       "\n",
       "[2 rows x 24 columns]"
      ]
     },
     "execution_count": 22,
     "metadata": {},
     "output_type": "execute_result"
    }
   ],
   "source": [
    "#Check if the column has been created.\n",
    "df.head(2)"
   ]
  },
  {
   "cell_type": "code",
   "execution_count": 23,
   "id": "8ed9c3e9-e7e8-4cdb-bc17-1375bf9a4d86",
   "metadata": {},
   "outputs": [
    {
     "data": {
      "text/html": [
       "<div>\n",
       "<style scoped>\n",
       "    .dataframe tbody tr th:only-of-type {\n",
       "        vertical-align: middle;\n",
       "    }\n",
       "\n",
       "    .dataframe tbody tr th {\n",
       "        vertical-align: top;\n",
       "    }\n",
       "\n",
       "    .dataframe thead th {\n",
       "        text-align: right;\n",
       "    }\n",
       "</style>\n",
       "<table border=\"1\" class=\"dataframe\">\n",
       "  <thead>\n",
       "    <tr style=\"text-align: right;\">\n",
       "      <th></th>\n",
       "      <th>mean</th>\n",
       "      <th>median</th>\n",
       "      <th>count</th>\n",
       "    </tr>\n",
       "    <tr>\n",
       "      <th>Q1 - Which Title Best Fits your Current Role?</th>\n",
       "      <th></th>\n",
       "      <th></th>\n",
       "      <th></th>\n",
       "    </tr>\n",
       "  </thead>\n",
       "  <tbody>\n",
       "    <tr>\n",
       "      <th>Data Analyst</th>\n",
       "      <td>55.297900</td>\n",
       "      <td>53.0</td>\n",
       "      <td>381</td>\n",
       "    </tr>\n",
       "    <tr>\n",
       "      <th>Data Architect</th>\n",
       "      <td>63.666667</td>\n",
       "      <td>75.5</td>\n",
       "      <td>3</td>\n",
       "    </tr>\n",
       "    <tr>\n",
       "      <th>Data Engineer</th>\n",
       "      <td>60.770270</td>\n",
       "      <td>53.0</td>\n",
       "      <td>37</td>\n",
       "    </tr>\n",
       "    <tr>\n",
       "      <th>Data Scientist</th>\n",
       "      <td>88.312500</td>\n",
       "      <td>95.5</td>\n",
       "      <td>24</td>\n",
       "    </tr>\n",
       "    <tr>\n",
       "      <th>Database Developer</th>\n",
       "      <td>33.200000</td>\n",
       "      <td>20.0</td>\n",
       "      <td>5</td>\n",
       "    </tr>\n",
       "  </tbody>\n",
       "</table>\n",
       "</div>"
      ],
      "text/plain": [
       "                                                    mean  median  count\n",
       "Q1 - Which Title Best Fits your Current Role?                          \n",
       "Data Analyst                                   55.297900    53.0    381\n",
       "Data Architect                                 63.666667    75.5      3\n",
       "Data Engineer                                  60.770270    53.0     37\n",
       "Data Scientist                                 88.312500    95.5     24\n",
       "Database Developer                             33.200000    20.0      5"
      ]
     },
     "execution_count": 23,
     "metadata": {},
     "output_type": "execute_result"
    }
   ],
   "source": [
    "# Get the salary of each by their role\n",
    "role_salary = df.groupby(\"Q1 - Which Title Best Fits your Current Role?\")['Avg_salary'].agg(['mean', 'median', 'count'])\n",
    "role_salary.head(5)"
   ]
  },
  {
   "cell_type": "code",
   "execution_count": 24,
   "id": "37183b16-2d1f-4963-9cfc-b385b599c7c8",
   "metadata": {},
   "outputs": [],
   "source": [
    "# Salary by country\n",
    "Country_salary = df.groupby('Q11 - Which Country do you live in?')['Avg_salary'].mean()"
   ]
  },
  {
   "cell_type": "code",
   "execution_count": 25,
   "id": "fd60ec62-7e0b-424f-8552-2e86738a29f7",
   "metadata": {},
   "outputs": [
    {
     "data": {
      "text/plain": [
       "Q11 - Which Country do you live in?\n",
       "Canada                                     67.843750\n",
       "India                                      29.910959\n",
       "Other (Please Specify)                     20.000000\n",
       "Other (Please Specify): Somalia            20.000000\n",
       "Other (Please Specify):Africa (Nigeria)    20.000000\n",
       "                                             ...    \n",
       "Other (Please Specify):nigeria             20.000000\n",
       "Other (Please Specify):turkey              20.000000\n",
       "Other (Please Specify):uzb                 20.000000\n",
       "United Kingdom                             46.362500\n",
       "United States                              77.687259\n",
       "Name: Avg_salary, Length: 98, dtype: float64"
      ]
     },
     "execution_count": 25,
     "metadata": {},
     "output_type": "execute_result"
    }
   ],
   "source": [
    "Country_salary"
   ]
  },
  {
   "cell_type": "code",
   "execution_count": 26,
   "id": "badf0599-5e83-4ce9-8871-057d503a2655",
   "metadata": {},
   "outputs": [
    {
     "data": {
      "text/plain": [
       "Q11 - Which Country do you live in?\n",
       "Other (Please Specify):UAE        103.75\n",
       "Other (Please Specify):Austr       95.50\n",
       "Other (Please Specify):Ireland     95.50\n",
       "Other (Please Specify):Ire         95.50\n",
       "Other (Please Specify):Turkey      84.25\n",
       "Name: Avg_salary, dtype: float64"
      ]
     },
     "execution_count": 26,
     "metadata": {},
     "output_type": "execute_result"
    }
   ],
   "source": [
    "# Top 5 countries with the highest salary\n",
    "Country_salary.sort_values(ascending=False).head()"
   ]
  },
  {
   "cell_type": "code",
   "execution_count": 28,
   "id": "90bd3ddc-b030-4cfd-ab6c-9031797c24fa",
   "metadata": {},
   "outputs": [
    {
     "data": {
      "text/plain": [
       "Q12 - Highest Level of Education\n",
       "Associates     43.000000\n",
       "Bachelors      48.943598\n",
       "High School    47.652778\n",
       "Masters        61.190104\n",
       "PhD            99.625000\n",
       "Name: Avg_salary, dtype: float64"
      ]
     },
     "execution_count": 28,
     "metadata": {},
     "output_type": "execute_result"
    }
   ],
   "source": [
    "# Salary by Education\n",
    "# Relationship between education level and salary\n",
    "edu_salary = df.groupby('Q12 - Highest Level of Education')['Avg_salary'].mean()\n",
    "edu_salary"
   ]
  },
  {
   "cell_type": "code",
   "execution_count": 32,
   "id": "301a3857-a738-4c51-956c-8fefe764b7be",
   "metadata": {},
   "outputs": [
    {
     "data": {
      "text/plain": [
       "Q12 - Highest Level of Education\n",
       "PhD            99.625000\n",
       "Masters        61.190104\n",
       "Bachelors      48.943598\n",
       "High School    47.652778\n",
       "Associates     43.000000\n",
       "Name: Avg_salary, dtype: float64"
      ]
     },
     "execution_count": 32,
     "metadata": {},
     "output_type": "execute_result"
    }
   ],
   "source": [
    "#Top 5 Salary by Education\n",
    "edu_salary.sort_values(ascending=False).head()"
   ]
  },
  {
   "cell_type": "code",
   "execution_count": 46,
   "id": "3690b369-8bc1-405b-8697-cd1989feaa9b",
   "metadata": {},
   "outputs": [
    {
     "data": {
      "image/png": "[encoded data removed]",
      "text/plain": [
       "<Figure size 1000x600 with 1 Axes>"
      ]
     },
     "metadata": {},
     "output_type": "display_data"
    }
   ],
   "source": [
    "# Representing the question above using a bar chart\n",
    "# Bar chart\n",
    "plt.figure(figsize=(10, 6))\n",
    "plt.bar(edu_salary.index, edu_salary.values, color='magenta')\n",
    "\n",
    "plt.xticks(rotation=45, ha='right')  # rotate x labels so they don’t overlap\n",
    "plt.ylabel('Average Salary')\n",
    "plt.title('Average Salary by Education Level')\n",
    "\n",
    "plt.tight_layout()\n",
    "plt.show()"
   ]
  },
  {
   "cell_type": "code",
   "execution_count": 33,
   "id": "d925b40a-8e7c-4289-9256-ba191760e331",
   "metadata": {},
   "outputs": [
    {
     "data": {
      "text/html": [
       "<div>\n",
       "<style scoped>\n",
       "    .dataframe tbody tr th:only-of-type {\n",
       "        vertical-align: middle;\n",
       "    }\n",
       "\n",
       "    .dataframe tbody tr th {\n",
       "        vertical-align: top;\n",
       "    }\n",
       "\n",
       "    .dataframe thead th {\n",
       "        text-align: right;\n",
       "    }\n",
       "</style>\n",
       "<table border=\"1\" class=\"dataframe\">\n",
       "  <thead>\n",
       "    <tr style=\"text-align: right;\">\n",
       "      <th></th>\n",
       "      <th>Unique ID</th>\n",
       "      <th>Email</th>\n",
       "      <th>Date Taken (America/New_York)</th>\n",
       "      <th>Time Taken (America/New_York)</th>\n",
       "      <th>Time Spent</th>\n",
       "      <th>Q1 - Which Title Best Fits your Current Role?</th>\n",
       "      <th>Q2 - Did you switch careers into Data?</th>\n",
       "      <th>Q3 - Current Yearly Salary (in USD)</th>\n",
       "      <th>Q4 - What Industry do you work in?</th>\n",
       "      <th>Q5 - Favorite Programming Language</th>\n",
       "      <th>...</th>\n",
       "      <th>Q6 - How Happy are you in your Current Position with the following? (Upward Mobility)</th>\n",
       "      <th>Q6 - How Happy are you in your Current Position with the following? (Learning New Things)</th>\n",
       "      <th>Q7 - How difficult was it for you to break into Data?</th>\n",
       "      <th>Q8 - If you were to look for a new job today, what would be the most important thing to you?</th>\n",
       "      <th>Q9 - Male/Female?</th>\n",
       "      <th>Q10 - Current Age</th>\n",
       "      <th>Q11 - Which Country do you live in?</th>\n",
       "      <th>Q12 - Highest Level of Education</th>\n",
       "      <th>Q13 - Ethnicity</th>\n",
       "      <th>Avg_salary</th>\n",
       "    </tr>\n",
       "  </thead>\n",
       "  <tbody>\n",
       "    <tr>\n",
       "      <th>0</th>\n",
       "      <td>62a33b3db4da29969c62df3d</td>\n",
       "      <td>anonymous</td>\n",
       "      <td>6/10/2022</td>\n",
       "      <td>8:38</td>\n",
       "      <td>0:00:44</td>\n",
       "      <td>Data Analyst</td>\n",
       "      <td>Yes</td>\n",
       "      <td>106k-125k</td>\n",
       "      <td>Healthcare</td>\n",
       "      <td>Python</td>\n",
       "      <td>...</td>\n",
       "      <td>5.0</td>\n",
       "      <td>7.0</td>\n",
       "      <td>Very Difficult</td>\n",
       "      <td>Remote Work</td>\n",
       "      <td>Male</td>\n",
       "      <td>26</td>\n",
       "      <td>United States</td>\n",
       "      <td>NaN</td>\n",
       "      <td>White or Caucasian</td>\n",
       "      <td>115.5</td>\n",
       "    </tr>\n",
       "    <tr>\n",
       "      <th>1</th>\n",
       "      <td>62a33ba1bae91e4b8b82e35c</td>\n",
       "      <td>anonymous</td>\n",
       "      <td>6/10/2022</td>\n",
       "      <td>8:40</td>\n",
       "      <td>0:01:30</td>\n",
       "      <td>Data Analyst</td>\n",
       "      <td>No</td>\n",
       "      <td>41k-65k</td>\n",
       "      <td>Finance</td>\n",
       "      <td>R</td>\n",
       "      <td>...</td>\n",
       "      <td>1.0</td>\n",
       "      <td>3.0</td>\n",
       "      <td>Very Difficult</td>\n",
       "      <td>Remote Work</td>\n",
       "      <td>Male</td>\n",
       "      <td>36</td>\n",
       "      <td>Canada</td>\n",
       "      <td>NaN</td>\n",
       "      <td>Asian or Asian American</td>\n",
       "      <td>53.0</td>\n",
       "    </tr>\n",
       "  </tbody>\n",
       "</table>\n",
       "<p>2 rows × 24 columns</p>\n",
       "</div>"
      ],
      "text/plain": [
       "                  Unique ID      Email Date Taken (America/New_York)  \\\n",
       "0  62a33b3db4da29969c62df3d  anonymous                     6/10/2022   \n",
       "1  62a33ba1bae91e4b8b82e35c  anonymous                     6/10/2022   \n",
       "\n",
       "  Time Taken (America/New_York) Time Spent  \\\n",
       "0                          8:38    0:00:44   \n",
       "1                          8:40    0:01:30   \n",
       "\n",
       "  Q1 - Which Title Best Fits your Current Role?  \\\n",
       "0                                  Data Analyst   \n",
       "1                                  Data Analyst   \n",
       "\n",
       "  Q2 - Did you switch careers into Data? Q3 - Current Yearly Salary (in USD)  \\\n",
       "0                                    Yes                           106k-125k   \n",
       "1                                     No                             41k-65k   \n",
       "\n",
       "  Q4 - What Industry do you work in? Q5 - Favorite Programming Language  ...  \\\n",
       "0                         Healthcare                             Python  ...   \n",
       "1                            Finance                                  R  ...   \n",
       "\n",
       "   Q6 - How Happy are you in your Current Position with the following? (Upward Mobility)  \\\n",
       "0                                                5.0                                       \n",
       "1                                                1.0                                       \n",
       "\n",
       "   Q6 - How Happy are you in your Current Position with the following? (Learning New Things)  \\\n",
       "0                                                7.0                                           \n",
       "1                                                3.0                                           \n",
       "\n",
       "   Q7 - How difficult was it for you to break into Data?  \\\n",
       "0                                     Very Difficult       \n",
       "1                                     Very Difficult       \n",
       "\n",
       "   Q8 - If you were to look for a new job today, what would be the most important thing to you?  \\\n",
       "0                                        Remote Work                                              \n",
       "1                                        Remote Work                                              \n",
       "\n",
       "   Q9 - Male/Female?  Q10 - Current Age Q11 - Which Country do you live in?  \\\n",
       "0               Male                 26                       United States   \n",
       "1               Male                 36                              Canada   \n",
       "\n",
       "  Q12 - Highest Level of Education          Q13 - Ethnicity  Avg_salary  \n",
       "0                              NaN       White or Caucasian       115.5  \n",
       "1                              NaN  Asian or Asian American        53.0  \n",
       "\n",
       "[2 rows x 24 columns]"
      ]
     },
     "execution_count": 33,
     "metadata": {},
     "output_type": "execute_result"
    }
   ],
   "source": [
    "df.head(2)"
   ]
  },
  {
   "cell_type": "code",
   "execution_count": 34,
   "id": "20351063-cee2-4235-878e-16d72e075a85",
   "metadata": {},
   "outputs": [
    {
     "data": {
      "text/plain": [
       "Q9 - Male/Female?\n",
       "Female    55.191358\n",
       "Male      52.721030\n",
       "Name: Avg_salary, dtype: float64"
      ]
     },
     "execution_count": 34,
     "metadata": {},
     "output_type": "execute_result"
    }
   ],
   "source": [
    "# Gender pay Gap\n",
    "# Compare Average salaries by gender controlling for role\n",
    "gender_salary = df.groupby('Q9 - Male/Female?')['Avg_salary'].mean()\n",
    "gender_salary"
   ]
  },
  {
   "cell_type": "code",
   "execution_count": 39,
   "id": "6adf2055-74bb-48a2-bfd1-daffdbc3b599",
   "metadata": {},
   "outputs": [
    {
     "data": {
      "image/png": "[encoded data removed]",
      "text/plain": [
       "<Figure size 600x600 with 1 Axes>"
      ]
     },
     "metadata": {},
     "output_type": "display_data"
    }
   ],
   "source": [
    "plt.figure(figsize=(6, 6))\n",
    "plt.pie(\n",
    "    gender_salary,\n",
    "    labels=gender_salary.index,\n",
    "    autopct=\"%1.1f%%\",\n",
    "    startangle=90,\n",
    "    colors=['m','y'],  # optional custom colors\n",
    "    shadow=True,\n",
    "    explode=(0.05, 0.05)           # 2 values for 2 slices\n",
    ")\n",
    "plt.title('Average Salary Distribution by Gender')\n",
    "plt.show()"
   ]
  },
  {
   "cell_type": "code",
   "execution_count": null,
   "id": "3141bf55-82c4-4125-bb92-6622188c2669",
   "metadata": {},
   "outputs": [],
   "source": []
  }
 ],
 "metadata": {
  "kernelspec": {
   "display_name": "Python 3 (ipykernel)",
   "language": "python",
   "name": "python3"
  },
  "language_info": {
   "codemirror_mode": {
    "name": "ipython",
    "version": 3
   },
   "file_extension": ".py",
   "mimetype": "text/x-python",
   "name": "python",
   "nbconvert_exporter": "python",
   "pygments_lexer": "ipython3",
   "version": "3.11.7"
  }
 },
 "nbformat": 4,
 "nbformat_minor": 5
}
