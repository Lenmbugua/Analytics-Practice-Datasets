{
 "cells": [
  {
   "cell_type": "code",
   "execution_count": 32,
   "id": "739043df-ec3e-463b-a09a-67c3e696fd0b",
   "metadata": {},
   "outputs": [],
   "source": [
    " import os, shutil\n"
   ]
  },
  {
   "cell_type": "code",
   "execution_count": 62,
   "id": "b3f852e6-9480-4cac-b4dc-f994aac29e1d",
   "metadata": {},
   "outputs": [],
   "source": [
    "path =  r\"C:/Users/njeri/Desktop/Data & Mapping/\""
   ]
  },
  {
   "cell_type": "code",
   "execution_count": 68,
   "id": "d7408bf5-7944-4f96-861a-8a3f6e0f9bb7",
   "metadata": {},
   "outputs": [
    {
     "data": {
      "text/plain": [
       "['csv files', 'Data', 'Email update.txt', 'image files', 'text files']"
      ]
     },
     "execution_count": 68,
     "metadata": {},
     "output_type": "execute_result"
    }
   ],
   "source": [
    "os.listdir(path)"
   ]
  },
  {
   "cell_type": "code",
   "execution_count": 69,
   "id": "dbf72d3f-b37f-4529-b042-3c653068400c",
   "metadata": {},
   "outputs": [
    {
     "data": {
      "text/plain": [
       "False"
      ]
     },
     "execution_count": 69,
     "metadata": {},
     "output_type": "execute_result"
    }
   ],
   "source": [
    "os.path.exists(path + '.pdf files')"
   ]
  },
  {
   "cell_type": "code",
   "execution_count": 70,
   "id": "c0d7119f-b5c3-475b-92fd-ea096d34137b",
   "metadata": {},
   "outputs": [],
   "source": [
    "file_name = os.listdir(path)"
   ]
  },
  {
   "cell_type": "code",
   "execution_count": 73,
   "id": "ba9918b3-cdba-420b-bf02-0c4ea95a3052",
   "metadata": {},
   "outputs": [],
   "source": [
    "folder_names = ['csv files', 'image files', 'text files']\n",
    "\n",
    "for loop in range(0,3):\n",
    "    if not os.path.exists(path + folder_names[loop]):\n",
    "        os.makedirs(path + folder_names[loop])\n",
    "\n",
    "\n",
    "for file in file_name:\n",
    "    if \".csv\" in file and not os.path.exists(path + \"csv files/\" + file):\n",
    "        shutil.move(path + file, path + \"csv files/\" + file)\n",
    "    elif \".png\" in file and not os.path.exists(path + \"image files/\" + file):\n",
    "        shutil.move(path + file, path + \"image files/\" + file)\n",
    "    elif \".txt\" in file and not os.path.exists(path + \"text files/\" + file):\n",
    "        shutil.move(path + file, path + \"text files/\" + file)"
   ]
  },
  {
   "cell_type": "code",
   "execution_count": 59,
   "id": "c57d9e87-27de-4431-95a5-1f35c6be93f3",
   "metadata": {},
   "outputs": [
    {
     "name": "stdout",
     "output_type": "stream",
     "text": [
      "['csv files', 'image files', 'text files']\n"
     ]
    }
   ],
   "source": [
    "print(folder_names)"
   ]
  },
  {
   "cell_type": "code",
   "execution_count": 44,
   "id": "d90a8dc3-d89d-4fe1-bb8c-69f8f0802f87",
   "metadata": {},
   "outputs": [
    {
     "name": "stdout",
     "output_type": "stream",
     "text": [
      "['csv files', 'Data', 'image files', 'text files']\n"
     ]
    }
   ],
   "source": [
    "print(file_name)"
   ]
  },
  {
   "cell_type": "code",
   "execution_count": null,
   "id": "6d4f559f-e0fb-426e-9a0f-38916f906bb7",
   "metadata": {},
   "outputs": [],
   "source": []
  },
  {
   "cell_type": "code",
   "execution_count": null,
   "id": "19eb8fc9-27ba-49bb-a854-68072b80480c",
   "metadata": {},
   "outputs": [],
   "source": []
  },
  {
   "cell_type": "code",
   "execution_count": null,
   "id": "32188911-ae99-481f-987c-b010f2f9c43d",
   "metadata": {},
   "outputs": [],
   "source": []
  },
  {
   "cell_type": "code",
   "execution_count": null,
   "id": "65804b95-deff-4685-971e-18b022c63b59",
   "metadata": {},
   "outputs": [],
   "source": []
  }
 ],
 "metadata": {
  "kernelspec": {
   "display_name": "Python 3 (ipykernel)",
   "language": "python",
   "name": "python3"
  },
  "language_info": {
   "codemirror_mode": {
    "name": "ipython",
    "version": 3
   },
   "file_extension": ".py",
   "mimetype": "text/x-python",
   "name": "python",
   "nbconvert_exporter": "python",
   "pygments_lexer": "ipython3",
   "version": "3.11.7"
  }
 },
 "nbformat": 4,
 "nbformat_minor": 5
}
