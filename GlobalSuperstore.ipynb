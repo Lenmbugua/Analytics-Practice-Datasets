{
 "cells": [
  {
   "cell_type": "code",
   "execution_count": 10,
   "id": "7f93111a-8032-491f-b406-ef2bbdffa17e",
   "metadata": {},
   "outputs": [],
   "source": [
    "import pandas as pd\n",
    "import matplotlib.pyplot as plt\n",
    "import seaborn as sns\n",
    "from datetime import datetime"
   ]
  },
  {
   "cell_type": "code",
   "execution_count": 3,
   "id": "528a4416-a081-4c7d-a651-b49814e276ee",
   "metadata": {},
   "outputs": [],
   "source": [
    "df = pd.read_csv(\"GLOBALSUPERSTORE_DATA -DUPLICATE1.csv\")"
   ]
  },
  {
   "cell_type": "code",
   "execution_count": 4,
   "id": "a8518cc2-af58-4529-a9d9-cf74b0e8826c",
   "metadata": {},
   "outputs": [
    {
     "data": {
      "text/html": [
       "<div>\n",
       "<style scoped>\n",
       "    .dataframe tbody tr th:only-of-type {\n",
       "        vertical-align: middle;\n",
       "    }\n",
       "\n",
       "    .dataframe tbody tr th {\n",
       "        vertical-align: top;\n",
       "    }\n",
       "\n",
       "    .dataframe thead th {\n",
       "        text-align: right;\n",
       "    }\n",
       "</style>\n",
       "<table border=\"1\" class=\"dataframe\">\n",
       "  <thead>\n",
       "    <tr style=\"text-align: right;\">\n",
       "      <th></th>\n",
       "      <th>ROW_ID</th>\n",
       "      <th>Order ID</th>\n",
       "      <th>Order Date</th>\n",
       "      <th>Ship Date</th>\n",
       "      <th>Ship Mode</th>\n",
       "      <th>Customer ID</th>\n",
       "      <th>Customer Name</th>\n",
       "      <th>Segment</th>\n",
       "      <th>City</th>\n",
       "      <th>State</th>\n",
       "      <th>...</th>\n",
       "      <th>Product ID</th>\n",
       "      <th>Category</th>\n",
       "      <th>Sub-Category</th>\n",
       "      <th>Product Name</th>\n",
       "      <th>Sales</th>\n",
       "      <th>Quantity</th>\n",
       "      <th>Discount</th>\n",
       "      <th>Profit</th>\n",
       "      <th>Shipping Cost</th>\n",
       "      <th>Order Priority</th>\n",
       "    </tr>\n",
       "  </thead>\n",
       "  <tbody>\n",
       "    <tr>\n",
       "      <th>0</th>\n",
       "      <td>40098</td>\n",
       "      <td>CA-2014-AB10015140-41954</td>\n",
       "      <td>11/11/2014</td>\n",
       "      <td>11/13/2014</td>\n",
       "      <td>First Class</td>\n",
       "      <td>AB-100151402</td>\n",
       "      <td>Aaron Bergman</td>\n",
       "      <td>Consumer</td>\n",
       "      <td>Oklahoma City</td>\n",
       "      <td>Oklahoma</td>\n",
       "      <td>...</td>\n",
       "      <td>TEC-PH-5816</td>\n",
       "      <td>Technology</td>\n",
       "      <td>Phones</td>\n",
       "      <td>Samsung Convoy 3</td>\n",
       "      <td>221.98</td>\n",
       "      <td>2.0</td>\n",
       "      <td>0.0</td>\n",
       "      <td>62.15</td>\n",
       "      <td>40.77</td>\n",
       "      <td>High</td>\n",
       "    </tr>\n",
       "    <tr>\n",
       "      <th>1</th>\n",
       "      <td>26341</td>\n",
       "      <td>IN-2014-JR162107-41675</td>\n",
       "      <td>2/5/2014</td>\n",
       "      <td>2/7/2014</td>\n",
       "      <td>Second Class</td>\n",
       "      <td>JR-162107</td>\n",
       "      <td>Justin Ritter</td>\n",
       "      <td>Corporate</td>\n",
       "      <td>Wollongong</td>\n",
       "      <td>New South Wales</td>\n",
       "      <td>...</td>\n",
       "      <td>FUR-CH-5379</td>\n",
       "      <td>Furniture</td>\n",
       "      <td>Chairs</td>\n",
       "      <td>Novimex Executive Leather Armchair, Black</td>\n",
       "      <td>3709.40</td>\n",
       "      <td>9.0</td>\n",
       "      <td>0.1</td>\n",
       "      <td>-288.77</td>\n",
       "      <td>923.63</td>\n",
       "      <td>Critical</td>\n",
       "    </tr>\n",
       "    <tr>\n",
       "      <th>2</th>\n",
       "      <td>25330</td>\n",
       "      <td>IN-2014-CR127307-41929</td>\n",
       "      <td>10/17/2014</td>\n",
       "      <td>10/18/2014</td>\n",
       "      <td>First Class</td>\n",
       "      <td>CR-127307</td>\n",
       "      <td>Craig Reiter</td>\n",
       "      <td>Consumer</td>\n",
       "      <td>Brisbane</td>\n",
       "      <td>Queensland</td>\n",
       "      <td>...</td>\n",
       "      <td>TEC-PH-5356</td>\n",
       "      <td>Technology</td>\n",
       "      <td>Phones</td>\n",
       "      <td>NaN</td>\n",
       "      <td>5175.17</td>\n",
       "      <td>9.0</td>\n",
       "      <td>0.1</td>\n",
       "      <td>919.97</td>\n",
       "      <td>915.49</td>\n",
       "      <td>Medium</td>\n",
       "    </tr>\n",
       "    <tr>\n",
       "      <th>3</th>\n",
       "      <td>13524</td>\n",
       "      <td>ES-2014-KM1637548-41667</td>\n",
       "      <td>1/28/2014</td>\n",
       "      <td>1/30/2014</td>\n",
       "      <td>First Class</td>\n",
       "      <td>KM-1637548</td>\n",
       "      <td>Katherine Murray</td>\n",
       "      <td>Home Office</td>\n",
       "      <td>Berlin</td>\n",
       "      <td>Berlin</td>\n",
       "      <td>...</td>\n",
       "      <td>TEC-PH-5267</td>\n",
       "      <td>Technology</td>\n",
       "      <td>Phones</td>\n",
       "      <td>Motorola Smart Phone, Cordless</td>\n",
       "      <td>2892.51</td>\n",
       "      <td>5.0</td>\n",
       "      <td>0.1</td>\n",
       "      <td>-96.54</td>\n",
       "      <td>910.16</td>\n",
       "      <td>Medium</td>\n",
       "    </tr>\n",
       "    <tr>\n",
       "      <th>4</th>\n",
       "      <td>47221</td>\n",
       "      <td>SG-2014-RH9495111-41948</td>\n",
       "      <td>11/5/2014</td>\n",
       "      <td>11/6/2014</td>\n",
       "      <td>Same Day</td>\n",
       "      <td>RH-9495111</td>\n",
       "      <td>Rick Hansen</td>\n",
       "      <td>Consumer</td>\n",
       "      <td>Dakar</td>\n",
       "      <td>Dakar</td>\n",
       "      <td>...</td>\n",
       "      <td>TEC-CO-6011</td>\n",
       "      <td>Technology</td>\n",
       "      <td>Copiers</td>\n",
       "      <td>Sharp Wireless Fax, High-Speed</td>\n",
       "      <td>2832.96</td>\n",
       "      <td>8.0</td>\n",
       "      <td>0.0</td>\n",
       "      <td>311.52</td>\n",
       "      <td>903.04</td>\n",
       "      <td>Critical</td>\n",
       "    </tr>\n",
       "  </tbody>\n",
       "</table>\n",
       "<p>5 rows × 23 columns</p>\n",
       "</div>"
      ],
      "text/plain": [
       "  ROW_ID                  Order ID  Order Date   Ship Date     Ship Mode  \\\n",
       "0  40098  CA-2014-AB10015140-41954  11/11/2014  11/13/2014   First Class   \n",
       "1  26341    IN-2014-JR162107-41675    2/5/2014    2/7/2014  Second Class   \n",
       "2  25330    IN-2014-CR127307-41929  10/17/2014  10/18/2014   First Class   \n",
       "3  13524   ES-2014-KM1637548-41667   1/28/2014   1/30/2014   First Class   \n",
       "4  47221   SG-2014-RH9495111-41948   11/5/2014   11/6/2014      Same Day   \n",
       "\n",
       "    Customer ID     Customer Name      Segment           City  \\\n",
       "0  AB-100151402     Aaron Bergman     Consumer  Oklahoma City   \n",
       "1     JR-162107     Justin Ritter    Corporate     Wollongong   \n",
       "2     CR-127307      Craig Reiter     Consumer       Brisbane   \n",
       "3    KM-1637548  Katherine Murray  Home Office         Berlin   \n",
       "4    RH-9495111       Rick Hansen     Consumer          Dakar   \n",
       "\n",
       "             State  ...   Product ID    Category Sub-Category  \\\n",
       "0         Oklahoma  ...  TEC-PH-5816  Technology       Phones   \n",
       "1  New South Wales  ...  FUR-CH-5379   Furniture       Chairs   \n",
       "2       Queensland  ...  TEC-PH-5356  Technology       Phones   \n",
       "3           Berlin  ...  TEC-PH-5267  Technology       Phones   \n",
       "4            Dakar  ...  TEC-CO-6011  Technology      Copiers   \n",
       "\n",
       "                                Product Name    Sales Quantity Discount  \\\n",
       "0                           Samsung Convoy 3   221.98      2.0      0.0   \n",
       "1  Novimex Executive Leather Armchair, Black  3709.40      9.0      0.1   \n",
       "2                                        NaN  5175.17      9.0      0.1   \n",
       "3             Motorola Smart Phone, Cordless  2892.51      5.0      0.1   \n",
       "4             Sharp Wireless Fax, High-Speed  2832.96      8.0      0.0   \n",
       "\n",
       "   Profit  Shipping Cost  Order Priority  \n",
       "0   62.15          40.77            High  \n",
       "1 -288.77         923.63        Critical  \n",
       "2  919.97         915.49          Medium  \n",
       "3  -96.54         910.16          Medium  \n",
       "4  311.52         903.04        Critical  \n",
       "\n",
       "[5 rows x 23 columns]"
      ]
     },
     "execution_count": 4,
     "metadata": {},
     "output_type": "execute_result"
    }
   ],
   "source": [
    "# We start by Exploring the data\n",
    "# Generate the first five rows\n",
    "df.head()"
   ]
  },
  {
   "cell_type": "code",
   "execution_count": 5,
   "id": "c6804c7c-f74f-47b0-a252-295df02350b0",
   "metadata": {},
   "outputs": [
    {
     "name": "stdout",
     "output_type": "stream",
     "text": [
      "<class 'pandas.core.frame.DataFrame'>\n",
      "RangeIndex: 25 entries, 0 to 24\n",
      "Data columns (total 23 columns):\n",
      " #   Column          Non-Null Count  Dtype  \n",
      "---  ------          --------------  -----  \n",
      " 0   ROW_ID          24 non-null     object \n",
      " 1   Order ID        24 non-null     object \n",
      " 2   Order Date      14 non-null     object \n",
      " 3   Ship Date       14 non-null     object \n",
      " 4   Ship Mode       14 non-null     object \n",
      " 5   Customer ID     14 non-null     object \n",
      " 6   Customer Name   14 non-null     object \n",
      " 7   Segment         14 non-null     object \n",
      " 8   City            14 non-null     object \n",
      " 9   State           14 non-null     object \n",
      " 10  Country         14 non-null     object \n",
      " 11  Region          14 non-null     object \n",
      " 12  Market          14 non-null     object \n",
      " 13  Product ID      14 non-null     object \n",
      " 14  Category        14 non-null     object \n",
      " 15  Sub-Category    14 non-null     object \n",
      " 16  Product Name    13 non-null     object \n",
      " 17  Sales           14 non-null     float64\n",
      " 18  Quantity        14 non-null     float64\n",
      " 19  Discount        14 non-null     float64\n",
      " 20  Profit          14 non-null     float64\n",
      " 21  Shipping Cost   14 non-null     float64\n",
      " 22  Order Priority  14 non-null     object \n",
      "dtypes: float64(5), object(18)\n",
      "memory usage: 4.6+ KB\n"
     ]
    }
   ],
   "source": [
    "#Check the info of the dataset\n",
    "df.info()"
   ]
  },
  {
   "cell_type": "code",
   "execution_count": 6,
   "id": "e977d166-20a2-4ce2-afcf-4a8e67846fa3",
   "metadata": {},
   "outputs": [
    {
     "data": {
      "text/plain": [
       "ROW_ID             object\n",
       "Order ID           object\n",
       "Order Date         object\n",
       "Ship Date          object\n",
       "Ship Mode          object\n",
       "Customer ID        object\n",
       "Customer Name      object\n",
       "Segment            object\n",
       "City               object\n",
       "State              object\n",
       "Country            object\n",
       "Region             object\n",
       "Market             object\n",
       "Product ID         object\n",
       "Category           object\n",
       "Sub-Category       object\n",
       "Product Name       object\n",
       "Sales             float64\n",
       "Quantity          float64\n",
       "Discount          float64\n",
       "Profit            float64\n",
       "Shipping Cost     float64\n",
       "Order Priority     object\n",
       "dtype: object"
      ]
     },
     "execution_count": 6,
     "metadata": {},
     "output_type": "execute_result"
    }
   ],
   "source": [
    "#Check the datatypes of the columns\n",
    "df.dtypes"
   ]
  },
  {
   "cell_type": "code",
   "execution_count": 8,
   "id": "b947113d-d27f-4f22-8e67-d710bd3751ca",
   "metadata": {},
   "outputs": [
    {
     "data": {
      "text/plain": [
       "ROW_ID             1\n",
       "Order ID           1\n",
       "Order Date        11\n",
       "Ship Date         11\n",
       "Ship Mode         11\n",
       "Customer ID       11\n",
       "Customer Name     11\n",
       "Segment           11\n",
       "City              11\n",
       "State             11\n",
       "Country           11\n",
       "Region            11\n",
       "Market            11\n",
       "Product ID        11\n",
       "Category          11\n",
       "Sub-Category      11\n",
       "Product Name      12\n",
       "Sales             11\n",
       "Quantity          11\n",
       "Discount          11\n",
       "Profit            11\n",
       "Shipping Cost     11\n",
       "Order Priority    11\n",
       "dtype: int64"
      ]
     },
     "execution_count": 8,
     "metadata": {},
     "output_type": "execute_result"
    }
   ],
   "source": [
    "#Checking for the count of missing values in each column\n",
    "df.isnull().sum()"
   ]
  },
  {
   "cell_type": "code",
   "execution_count": 9,
   "id": "e8e668a0-acd9-410d-a975-d05954e1e168",
   "metadata": {},
   "outputs": [
    {
     "data": {
      "text/html": [
       "<div>\n",
       "<style scoped>\n",
       "    .dataframe tbody tr th:only-of-type {\n",
       "        vertical-align: middle;\n",
       "    }\n",
       "\n",
       "    .dataframe tbody tr th {\n",
       "        vertical-align: top;\n",
       "    }\n",
       "\n",
       "    .dataframe thead th {\n",
       "        text-align: right;\n",
       "    }\n",
       "</style>\n",
       "<table border=\"1\" class=\"dataframe\">\n",
       "  <thead>\n",
       "    <tr style=\"text-align: right;\">\n",
       "      <th></th>\n",
       "      <th>Sales</th>\n",
       "      <th>Quantity</th>\n",
       "      <th>Discount</th>\n",
       "      <th>Profit</th>\n",
       "      <th>Shipping Cost</th>\n",
       "    </tr>\n",
       "  </thead>\n",
       "  <tbody>\n",
       "    <tr>\n",
       "      <th>count</th>\n",
       "      <td>14.000000</td>\n",
       "      <td>14.000000</td>\n",
       "      <td>14.000000</td>\n",
       "      <td>14.000000</td>\n",
       "      <td>14.000000</td>\n",
       "    </tr>\n",
       "    <tr>\n",
       "      <th>mean</th>\n",
       "      <td>2473.938571</td>\n",
       "      <td>5.000000</td>\n",
       "      <td>0.042857</td>\n",
       "      <td>408.482143</td>\n",
       "      <td>634.465000</td>\n",
       "    </tr>\n",
       "    <tr>\n",
       "      <th>std</th>\n",
       "      <td>1831.926361</td>\n",
       "      <td>2.572039</td>\n",
       "      <td>0.064621</td>\n",
       "      <td>458.556490</td>\n",
       "      <td>404.482444</td>\n",
       "    </tr>\n",
       "    <tr>\n",
       "      <th>min</th>\n",
       "      <td>17.940000</td>\n",
       "      <td>1.000000</td>\n",
       "      <td>0.000000</td>\n",
       "      <td>-288.770000</td>\n",
       "      <td>4.290000</td>\n",
       "    </tr>\n",
       "    <tr>\n",
       "      <th>25%</th>\n",
       "      <td>711.990000</td>\n",
       "      <td>3.250000</td>\n",
       "      <td>0.000000</td>\n",
       "      <td>17.787500</td>\n",
       "      <td>233.140000</td>\n",
       "    </tr>\n",
       "    <tr>\n",
       "      <th>50%</th>\n",
       "      <td>2724.960000</td>\n",
       "      <td>5.000000</td>\n",
       "      <td>0.000000</td>\n",
       "      <td>438.180000</td>\n",
       "      <td>856.975000</td>\n",
       "    </tr>\n",
       "    <tr>\n",
       "      <th>75%</th>\n",
       "      <td>3505.177500</td>\n",
       "      <td>6.750000</td>\n",
       "      <td>0.100000</td>\n",
       "      <td>734.347500</td>\n",
       "      <td>901.617500</td>\n",
       "    </tr>\n",
       "    <tr>\n",
       "      <th>max</th>\n",
       "      <td>5244.840000</td>\n",
       "      <td>9.000000</td>\n",
       "      <td>0.200000</td>\n",
       "      <td>1151.400000</td>\n",
       "      <td>923.630000</td>\n",
       "    </tr>\n",
       "  </tbody>\n",
       "</table>\n",
       "</div>"
      ],
      "text/plain": [
       "             Sales   Quantity   Discount       Profit  Shipping Cost\n",
       "count    14.000000  14.000000  14.000000    14.000000      14.000000\n",
       "mean   2473.938571   5.000000   0.042857   408.482143     634.465000\n",
       "std    1831.926361   2.572039   0.064621   458.556490     404.482444\n",
       "min      17.940000   1.000000   0.000000  -288.770000       4.290000\n",
       "25%     711.990000   3.250000   0.000000    17.787500     233.140000\n",
       "50%    2724.960000   5.000000   0.000000   438.180000     856.975000\n",
       "75%    3505.177500   6.750000   0.100000   734.347500     901.617500\n",
       "max    5244.840000   9.000000   0.200000  1151.400000     923.630000"
      ]
     },
     "execution_count": 9,
     "metadata": {},
     "output_type": "execute_result"
    }
   ],
   "source": [
    "#Computing statistics\n",
    "df.describe()"
   ]
  },
  {
   "cell_type": "code",
   "execution_count": 12,
   "id": "c6ead085-12a1-4969-8b9b-8b71982a97f5",
   "metadata": {},
   "outputs": [
    {
     "data": {
      "text/plain": [
       "ROW_ID             4.0\n",
       "Order ID           4.0\n",
       "Order Date        44.0\n",
       "Ship Date         44.0\n",
       "Ship Mode         44.0\n",
       "Customer ID       44.0\n",
       "Customer Name     44.0\n",
       "Segment           44.0\n",
       "City              44.0\n",
       "State             44.0\n",
       "Country           44.0\n",
       "Region            44.0\n",
       "Market            44.0\n",
       "Product ID        44.0\n",
       "Category          44.0\n",
       "Sub-Category      44.0\n",
       "Product Name      48.0\n",
       "Sales             44.0\n",
       "Quantity          44.0\n",
       "Discount          44.0\n",
       "Profit            44.0\n",
       "Shipping Cost     44.0\n",
       "Order Priority    44.0\n",
       "dtype: float64"
      ]
     },
     "execution_count": 12,
     "metadata": {},
     "output_type": "execute_result"
    }
   ],
   "source": [
    "# Handle missing values\n",
    "#Checking percentage of missing values\n",
    "missing_percentage = df.isnull().sum() / len(df) * 100\n",
    "missing_percentage"
   ]
  },
  {
   "cell_type": "code",
   "execution_count": 13,
   "id": "07f77a7c-838d-4784-8905-4d148bafdeb5",
   "metadata": {},
   "outputs": [
    {
     "data": {
      "text/plain": [
       "25"
      ]
     },
     "execution_count": 13,
     "metadata": {},
     "output_type": "execute_result"
    }
   ],
   "source": [
    "#Check the number of rows\n",
    "len(df)"
   ]
  },
  {
   "cell_type": "code",
   "execution_count": 25,
   "id": "d739790e-2811-4d7f-bce3-dd9a97e8bfaf",
   "metadata": {},
   "outputs": [],
   "source": [
    "# Fill the missing values\n",
    "df['ROW_ID'].fillna('Uknown', inplace=True)\n",
    "df['Order ID'].fillna('Uknown', inplace=True)"
   ]
  },
  {
   "cell_type": "code",
   "execution_count": 26,
   "id": "7afe1318-630b-410f-8194-67848bf26e12",
   "metadata": {},
   "outputs": [],
   "source": [
    "# Fill the missing values\n",
    "df['Customer ID'].fillna('Uknown', inplace=True)\n",
    "df['Product ID'].fillna('Uknown', inplace=True)\n",
    "df['Ship Mode'].fillna('Uknown', inplace=True)"
   ]
  },
  {
   "cell_type": "code",
   "execution_count": 23,
   "id": "db473149-761b-489f-a5af-c6823f8aeeee",
   "metadata": {},
   "outputs": [],
   "source": [
    "df['Order Date'].fillna(df['Order Date'].mode()[0],inplace=True)\n",
    "df['Ship Date'].fillna(df['Ship Date'].mode()[0],inplace=True)"
   ]
  },
  {
   "cell_type": "code",
   "execution_count": 21,
   "id": "b8c77c78-3003-4378-b4ae-e9e9be2b93af",
   "metadata": {},
   "outputs": [],
   "source": [
    "cat_cols = [\"Customer Name\",\"Segment\",\"City\",\"State\",\"Country\",\n",
    "            \"Region\",\"Market\",\"Category\",\"Sub-Category\",\n",
    "            \"Product Name\",\"Order Priority\"]\n",
    "\n",
    "for col in cat_cols:\n",
    "    df[col].fillna(df[col].mode()[0], inplace=True)"
   ]
  },
  {
   "cell_type": "code",
   "execution_count": 22,
   "id": "16f260b7-3183-4fe7-b8fa-ce3ef764849d",
   "metadata": {},
   "outputs": [],
   "source": [
    "# For this columns we fill with median\n",
    "num_cols = [\"Sales\",\"Quantity\",\"Discount\",\"Profit\",\"Shipping Cost\"]\n",
    "\n",
    "for col in num_cols:\n",
    "    df[col].fillna(df[col].median(), inplace=True)"
   ]
  },
  {
   "cell_type": "code",
   "execution_count": 27,
   "id": "483b556b-b6f1-4c15-9c70-0d1355a6df34",
   "metadata": {},
   "outputs": [
    {
     "data": {
      "text/plain": [
       "ROW_ID            0\n",
       "Order ID          0\n",
       "Order Date        0\n",
       "Ship Date         0\n",
       "Ship Mode         0\n",
       "Customer ID       0\n",
       "Customer Name     0\n",
       "Segment           0\n",
       "City              0\n",
       "State             0\n",
       "Country           0\n",
       "Region            0\n",
       "Market            0\n",
       "Product ID        0\n",
       "Category          0\n",
       "Sub-Category      0\n",
       "Product Name      0\n",
       "Sales             0\n",
       "Quantity          0\n",
       "Discount          0\n",
       "Profit            0\n",
       "Shipping Cost     0\n",
       "Order Priority    0\n",
       "dtype: int64"
      ]
     },
     "execution_count": 27,
     "metadata": {},
     "output_type": "execute_result"
    }
   ],
   "source": [
    "df.isnull().sum()"
   ]
  },
  {
   "cell_type": "code",
   "execution_count": 28,
   "id": "cc5cb92f-bce5-4d1c-8ec4-556528e109ea",
   "metadata": {},
   "outputs": [],
   "source": [
    "#Convert Order date and Ship Date to datetime\n",
    "df['Order Date'] = pd.to_datetime(df['Order Date'], errors='coerce')"
   ]
  },
  {
   "cell_type": "code",
   "execution_count": 30,
   "id": "c4f4be58-c520-4b1f-a3de-adc6c4bbdcd2",
   "metadata": {},
   "outputs": [
    {
     "name": "stdout",
     "output_type": "stream",
     "text": [
      "<class 'pandas.core.frame.DataFrame'>\n",
      "RangeIndex: 25 entries, 0 to 24\n",
      "Data columns (total 23 columns):\n",
      " #   Column          Non-Null Count  Dtype         \n",
      "---  ------          --------------  -----         \n",
      " 0   ROW_ID          25 non-null     object        \n",
      " 1   Order ID        25 non-null     object        \n",
      " 2   Order Date      25 non-null     datetime64[ns]\n",
      " 3   Ship Date       25 non-null     object        \n",
      " 4   Ship Mode       25 non-null     object        \n",
      " 5   Customer ID     25 non-null     object        \n",
      " 6   Customer Name   25 non-null     object        \n",
      " 7   Segment         25 non-null     object        \n",
      " 8   City            25 non-null     object        \n",
      " 9   State           25 non-null     object        \n",
      " 10  Country         25 non-null     object        \n",
      " 11  Region          25 non-null     object        \n",
      " 12  Market          25 non-null     object        \n",
      " 13  Product ID      25 non-null     object        \n",
      " 14  Category        25 non-null     object        \n",
      " 15  Sub-Category    25 non-null     object        \n",
      " 16  Product Name    25 non-null     object        \n",
      " 17  Sales           25 non-null     float64       \n",
      " 18  Quantity        25 non-null     float64       \n",
      " 19  Discount        25 non-null     float64       \n",
      " 20  Profit          25 non-null     float64       \n",
      " 21  Shipping Cost   25 non-null     float64       \n",
      " 22  Order Priority  25 non-null     object        \n",
      "dtypes: datetime64[ns](1), float64(5), object(17)\n",
      "memory usage: 4.6+ KB\n"
     ]
    }
   ],
   "source": [
    "df.info()"
   ]
  },
  {
   "cell_type": "code",
   "execution_count": 31,
   "id": "a8a90f46-4857-4026-8989-6611968825d3",
   "metadata": {},
   "outputs": [],
   "source": [
    "df['Ship Date'] = pd.to_datetime(df['Ship Date'], errors='coerce')"
   ]
  },
  {
   "cell_type": "code",
   "execution_count": 32,
   "id": "bd0584ca-d1a5-4aa2-addf-30c67c38d496",
   "metadata": {},
   "outputs": [
    {
     "name": "stdout",
     "output_type": "stream",
     "text": [
      "<class 'pandas.core.frame.DataFrame'>\n",
      "RangeIndex: 25 entries, 0 to 24\n",
      "Data columns (total 23 columns):\n",
      " #   Column          Non-Null Count  Dtype         \n",
      "---  ------          --------------  -----         \n",
      " 0   ROW_ID          25 non-null     object        \n",
      " 1   Order ID        25 non-null     object        \n",
      " 2   Order Date      25 non-null     datetime64[ns]\n",
      " 3   Ship Date       25 non-null     datetime64[ns]\n",
      " 4   Ship Mode       25 non-null     object        \n",
      " 5   Customer ID     25 non-null     object        \n",
      " 6   Customer Name   25 non-null     object        \n",
      " 7   Segment         25 non-null     object        \n",
      " 8   City            25 non-null     object        \n",
      " 9   State           25 non-null     object        \n",
      " 10  Country         25 non-null     object        \n",
      " 11  Region          25 non-null     object        \n",
      " 12  Market          25 non-null     object        \n",
      " 13  Product ID      25 non-null     object        \n",
      " 14  Category        25 non-null     object        \n",
      " 15  Sub-Category    25 non-null     object        \n",
      " 16  Product Name    25 non-null     object        \n",
      " 17  Sales           25 non-null     float64       \n",
      " 18  Quantity        25 non-null     float64       \n",
      " 19  Discount        25 non-null     float64       \n",
      " 20  Profit          25 non-null     float64       \n",
      " 21  Shipping Cost   25 non-null     float64       \n",
      " 22  Order Priority  25 non-null     object        \n",
      "dtypes: datetime64[ns](2), float64(5), object(16)\n",
      "memory usage: 4.6+ KB\n"
     ]
    }
   ],
   "source": [
    "df.info()"
   ]
  },
  {
   "cell_type": "code",
   "execution_count": 33,
   "id": "35077a15-51d6-41e1-9396-2074550211b3",
   "metadata": {},
   "outputs": [
    {
     "data": {
      "text/plain": [
       "0"
      ]
     },
     "execution_count": 33,
     "metadata": {},
     "output_type": "execute_result"
    }
   ],
   "source": [
    "#Check for invalid dates\n",
    "df['Ship Date'].isnull().sum()\n",
    "df['Order Date']"
   ]
  },
  {
   "cell_type": "code",
   "execution_count": null,
   "id": "1ab76989-b490-4422-bdec-10d501e03a3d",
   "metadata": {},
   "outputs": [],
   "source": []
  }
 ],
 "metadata": {
  "kernelspec": {
   "display_name": "Python 3 (ipykernel)",
   "language": "python",
   "name": "python3"
  },
  "language_info": {
   "codemirror_mode": {
    "name": "ipython",
    "version": 3
   },
   "file_extension": ".py",
   "mimetype": "text/x-python",
   "name": "python",
   "nbconvert_exporter": "python",
   "pygments_lexer": "ipython3",
   "version": "3.11.7"
  }
 },
 "nbformat": 4,
 "nbformat_minor": 5
}
